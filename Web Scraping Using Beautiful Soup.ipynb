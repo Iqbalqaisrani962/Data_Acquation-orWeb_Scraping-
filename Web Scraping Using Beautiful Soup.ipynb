{
 "cells": [
  {
   "cell_type": "markdown",
   "id": "4e2b36cf",
   "metadata": {},
   "source": [
    "# Web Scapring using Beautiful Soup\n",
    "- Beautiful Soup is a python library used for pulling data out of `HTML` and `XML` files\n",
    "- Beautiful Soup cannot fetch HTML contents from web sites. To pull HTML, we use `requests` library and then pass the HTML to Beautiful Soup constructor\n",
    "- The main three features of the beautiful soup are:\n",
    ">- It generates a parse tree of HTML and offers simple methods for navigating, searching and modifying that parse tree. \n",
    ">- It automatically converts incoming documents to Unicode and outgoing documents to UTF-8. So, you don't have to worry about encodings\n",
    ">- It has support of different parsers, using which Beautiful Soup parse the HTML doxuments. Examples of parse tree are: lxml, html5lib, html.parser\n",
    "- Different parsers may create different parse trees and could result different results depending on the HTML that you are trying to parse. If you are trying to parse perfectly formed HTML, then different parsers will give almost the same output, but if there are the mistakes in the HTML then different parsers will try to fill in missing information differently."
   ]
  },
  {
   "cell_type": "markdown",
   "id": "a4236a9a",
   "metadata": {},
   "source": [
    "### `urllib` \n",
    "- urllib is a package that collects several modules for working with URLs\n",
    ">- `urllib.request` for opening and reading URLs, using variety of protocols\n",
    ">- `urllib.error` containing the exceptions raised by `urllib.request`\n",
    ">- `urllib.parse` for parsing URLs\n",
    ">- `urllib.robotparser` for parsing `robot.txt` file\n",
    "#### Download & Install Beautiful Soup"
   ]
  },
  {
   "cell_type": "code",
   "execution_count": 2,
   "id": "2b6bea06",
   "metadata": {},
   "outputs": [],
   "source": [
    "import sys\n",
    "!{sys.executable} -m pip install --upgrade pip -q\n",
    "!{sys.executable} -m pip install requests -q\n",
    "!{sys.executable} -m pip install beautifulsoup4 -q\n",
    "!{sys.executable} -m pip install --upgrade lxml -q\n",
    "!{sys.executable} -m pip install html5lib -q"
   ]
  },
  {
   "cell_type": "code",
   "execution_count": 3,
   "id": "ec38420c",
   "metadata": {},
   "outputs": [
    {
     "data": {
      "text/plain": [
       "('2.31.0', '4.11.1', '4.9.1')"
      ]
     },
     "execution_count": 3,
     "metadata": {},
     "output_type": "execute_result"
    }
   ],
   "source": [
    "import requests\n",
    "import bs4 # it is a dummy paackage managed by the developers of the beautiful soup to prevent name squatting\n",
    "from bs4 import BeautifulSoup\n",
    "import lxml\n",
    "import html5lib\n",
    "requests.__version__, bs4.__version__, lxml.__version__"
   ]
  },
  {
   "cell_type": "markdown",
   "id": "ed9caf64",
   "metadata": {},
   "source": [
    "### Fetching HTML Contents Using `requests` Library"
   ]
  },
  {
   "cell_type": "code",
   "execution_count": 5,
   "id": "d1b2dbe8",
   "metadata": {},
   "outputs": [
    {
     "name": "stdout",
     "output_type": "stream",
     "text": [
      "['ConnectTimeout', 'ConnectionError', 'DependencyWarning', 'FileModeWarning', 'HTTPError', 'JSONDecodeError', 'NullHandler', 'PreparedRequest', 'ReadTimeout', 'Request', 'RequestException', 'RequestsDependencyWarning', 'Response', 'Session', 'Timeout', 'TooManyRedirects', 'URLRequired', '__author__', '__author_email__', '__build__', '__builtins__', '__cached__', '__cake__', '__copyright__', '__description__', '__doc__', '__file__', '__license__', '__loader__', '__name__', '__package__', '__path__', '__spec__', '__title__', '__url__', '__version__', '_check_cryptography', '_internal_utils', 'adapters', 'api', 'auth', 'certs', 'chardet_version', 'charset_normalizer_version', 'check_compatibility', 'codes', 'compat', 'cookies', 'delete', 'exceptions', 'get', 'head', 'hooks', 'logging', 'models', 'options', 'packages', 'patch', 'post', 'put', 'request', 'session', 'sessions', 'ssl', 'status_codes', 'structures', 'urllib3', 'utils', 'warnings']\n"
     ]
    }
   ],
   "source": [
    "import requests\n",
    "print(dir(requests))"
   ]
  },
  {
   "cell_type": "code",
   "execution_count": 6,
   "id": "dd438d94",
   "metadata": {},
   "outputs": [
    {
     "data": {
      "text/plain": [
       "200"
      ]
     },
     "execution_count": 6,
     "metadata": {},
     "output_type": "execute_result"
    }
   ],
   "source": [
    "responce = requests.get(\"https://arifpucit.github.io/bss2\")\n",
    "responce.status_code"
   ]
  },
  {
   "cell_type": "markdown",
   "id": "cf2c078c",
   "metadata": {},
   "source": [
    ">- Code in the 100 range are informational messages\n",
    ">- Code in the 200 range are success messages\n",
    ">- Code in the 300 range are redirectional\n",
    ">- Code in the 400 range are the client-side error\n",
    ">- Code in the 500 range are the server-side error"
   ]
  },
  {
   "cell_type": "code",
   "execution_count": 7,
   "id": "e4043376",
   "metadata": {},
   "outputs": [
    {
     "name": "stdout",
     "output_type": "stream",
     "text": [
      "['__attrs__', '__bool__', '__class__', '__delattr__', '__dict__', '__dir__', '__doc__', '__enter__', '__eq__', '__exit__', '__format__', '__ge__', '__getattribute__', '__getstate__', '__gt__', '__hash__', '__init__', '__init_subclass__', '__iter__', '__le__', '__lt__', '__module__', '__ne__', '__new__', '__nonzero__', '__reduce__', '__reduce_ex__', '__repr__', '__setattr__', '__setstate__', '__sizeof__', '__str__', '__subclasshook__', '__weakref__', '_content', '_content_consumed', '_next', 'apparent_encoding', 'close', 'connection', 'content', 'cookies', 'elapsed', 'encoding', 'headers', 'history', 'is_permanent_redirect', 'is_redirect', 'iter_content', 'iter_lines', 'json', 'links', 'next', 'ok', 'raise_for_status', 'raw', 'reason', 'request', 'status_code', 'text', 'url']\n"
     ]
    }
   ],
   "source": [
    "print(dir(responce))"
   ]
  },
  {
   "cell_type": "code",
   "execution_count": 12,
   "id": "3aeab0bf",
   "metadata": {},
   "outputs": [
    {
     "name": "stdout",
     "output_type": "stream",
     "text": [
      "https://arifpucit.github.io/bss2/\n"
     ]
    }
   ],
   "source": [
    "# return the url of the web page\n",
    "print(responce.url)"
   ]
  },
  {
   "cell_type": "code",
   "execution_count": 11,
   "id": "0f9b5a1c",
   "metadata": {},
   "outputs": [
    {
     "name": "stdout",
     "output_type": "stream",
     "text": [
      "{'Connection': 'keep-alive', 'Content-Length': '2757', 'Server': 'GitHub.com', 'Content-Type': 'text/html; charset=utf-8', 'permissions-policy': 'interest-cohort=()', 'Last-Modified': 'Mon, 27 Jun 2022 12:32:49 GMT', 'Access-Control-Allow-Origin': '*', 'ETag': 'W/\"62b9a371-33ad\"', 'expires': 'Wed, 16 Aug 2023 05:03:09 GMT', 'Cache-Control': 'max-age=600', 'Content-Encoding': 'gzip', 'x-proxy-cache': 'MISS', 'X-GitHub-Request-Id': 'BAD4:2F07:51BAC4:5D35C9:64DC5634', 'Accept-Ranges': 'bytes', 'Date': 'Wed, 16 Aug 2023 04:53:09 GMT', 'Via': '1.1 varnish', 'Age': '0', 'X-Served-By': 'cache-fjr990029-FJR', 'X-Cache': 'MISS', 'X-Cache-Hits': '0', 'X-Timer': 'S1692161589.990542,VS0,VE317', 'Vary': 'Accept-Encoding', 'X-Fastly-Request-ID': '5d0c1c16a219505dc2a7a65f0f7df544adbecc50'}\n"
     ]
    }
   ],
   "source": [
    "# return the headers information\n",
    "print(responce.headers)"
   ]
  },
  {
   "cell_type": "code",
   "execution_count": 14,
   "id": "87d2e15c",
   "metadata": {},
   "outputs": [
    {
     "name": "stdout",
     "output_type": "stream",
     "text": [
      "b'<!doctype html>\\n<html lang=\"en\">\\n  <head>\\n    <meta charset=\"utf-8\">\\n    <meta name=\"viewport\" content=\"width=device-width, initial-scale=1\">\\n    <title>BSS2</title>\\n    <!-- external style sheet -->\\n    <link rel=\"stylesheet\" href=\"./index.css\">\\n\\n    <!--Bootstrap style sheet-->\\n    <link href=\"https://cdn.jsdelivr.net/npm/bootstrap@5.2.0-beta1/dist/css/bootstrap.min.css\" rel=\"stylesheet\" integrity=\"sha384-0evHe/X+R7YkIZDRvuzKMRqM+OrBnVFBL6DOitfPri4tjfHxaWutUpFmBp4vmVor\" crossorigin=\"anonymous\">\\n\\n    <!--for icons of tick and cross ans star for in stock-->\\n    <link rel=\"stylesheet\" href=\"https://cdnjs.cloudflare.com/ajax/libs/font-awesome/4.7.0/css/font-awesome.min.css\"> \\n\\n  </head>\\n  <body>\\n    <header class=\"header d-flex align-items-center justify-content-between\">\\n        <img class=\"image-container\" src=\"./images//arif.jpg\" alt=\"arif\"/>\\n         <p> <span class=\"large_text\">Books Scraping Site</span></p>\\n        <img class=\"image-container\" src=\"./images/pucit.jpg\" alt=\"pucit\"/>\\n    </header>\\n    <section>\\n        <div class=\"main-container d-flex align-items-start justify-content-between\">\\n            <div class=\"navbar\">\\n                <ul class=\"nav-links\">\\n                    <div class=\"link text-center\" id=\"book_title\">Books Titles</div>\\n                    <li class=\"link book_type\"><a href=\"index.html\">Operating System</a></li>\\n                    <li class=\"link book_type\"><a href=\"SP.html\">System Programming</a></li>\\n                    <li class=\"link book_type\"><a href=\"CA.html\">Computer Architecture</a></li>\\n                </ul>\\n            </div>\\n            <div class=\"items\">\\n                <div id=\"book_page_titile\">Operating Systems</div>\\n                <div class=\"row\">\\n                    <div class=\"book_container col-sm-4\">\\n                        <img src=\"images/OS concepts.jpg\" alt=\"\" title=\"The Linux Programming Interface (TLPI) is the definitive guide &#10; to the Linux and UNIX programming interface\\xe2\\x80\\x94the interface&#10; employed by nearly every application that runs on a &#10;Linux or UNIX system.\">\\n                        <p  class=\"book_name\"><a href=\"https://www.amazon.com/Operating-System-Concepts-Abridged-Companion/dp/1119456339\" target=\"_blank\">Operating System Concepts </br>By Avi Silberschatz</a></p>\\n                        <div class=\"align-left\">\\n                            <p class=\" price green\">Rs.2000</p>\\n                            <p class=\"stock in_stock \" data-stock=\"in stock\"><i class=\"fa fa-check\" aria-hidden=\"true\"></i> In stock</p>\\n                            <div><span class=\"fa fa-star \"></span><span class=\"fa fa-star \"></span><span class=\"fa fa-star \"></span><span class=\"fa fa-star  not_filled\"></span><span class=\"fa fa-star  not_filled\"></span></div>\\n                            <p class=\"review green\" data-rating=\"20\">20 Reviews</p>\\n                            <button>Add to cart</button>\\n                        </div>\\n                    </div>\\n                    <div class=\"book_container col-sm-4\">\\n                        <img src=\"images/Unix.jpg\" alt=\"\" title=\"It covers many topics not covered in older, more traditional textbook &#10;approaches, such as Python, UNIX System Programming from basics to &#10;socket-based network programming using the client-server paradigm, the &#10;Zettabyte File System (ZFS), and the highly developed X Windows-based&#10; KDE and Gnome GUI desktop environments\">\\n                        <p  class=\"book_name\"><a href=\"https://www.google.com/search?q=Unix+the+textbook+by+mansoor&rlz=1C1CHBD_enPK987PK987&oq=unix+the+textbook+by+mansoor&aqs=chrome.0.69i59j69i57j69i59j69i60l5.4419j0j7&sourceid=chrome&ie=UTF-8\" target=\"_blank\">UNIX The Textbook</br> By Syed Mansoor Sarwar</a></p>\\n                        <div class=\"align-left\">\\n                            <p class=\" price green\">Rs.5000</p>\\n                            <p class=\"stock in_stock \" data-stock=\"in stock\"><i class=\"fa fa-check\" aria-hidden=\"true\"></i> In stock</p>\\n                            <div><span class=\"fa fa-star \"></span><span class=\"fa fa-star \"></span><span class=\"fa fa-star \"></span><span class=\"fa fa-star \"></span><span class=\"fa fa-star \"></span></div>\\n                            <p class=\"review green\" data-rating=\"100\">100 Reviews</p>\\n                            <button>Add to cart</button>\\n                        </div>\\n                    </div>\\n                    <div class=\"book_container col-sm-4\">\\n                        <img src=\"images/taxonomy.jpg\" alt=\"\" title=\"Intrusion Detection using System Call Sequence\">\\n                        <p  class=\"book_name\"><a href=\"https://www.amazon.in/Taxonomy-Ids-Arif-Butt/dp/3639294092\" target=\"_blank\">Taxonomy of IDS </br>By Arif Butt</a></p>\\n                        <div class=\"align-left\">\\n                            <p class=\" price green\">Rs.6900</p>\\n                            <p class=\"stock not_stock \" data-stock=\"not in stock\"><i class=\"fa fa-times\" aria-hidden=\"true\"></i> Not in stock</p>\\n                            <div><span class=\"fa fa-star \"></span><span class=\"fa fa-star \"></span><span class=\"fa fa-star\"></span><span class=\"fa fa-star\"></span><span class=\"fa fa-star not_filled\"></span></div>\\n                            <p class=\"review green\" data-rating=\"20\">20 Reviews</p>\\n                            <button>Add to cart</button>\\n                        </div>\\n                    </div>\\n                    <div class=\"book_container col-sm-4\">\\n                        <img src=\"images/understanding OS.jpg\" alt=\"\" title=\"This book approaches the LINUX environment as a programming&#10; companion. No previous exposure to LINUX is necessary to utilize&#10; this text.\">\\n                        <p  class=\"book_name\"><a href=\"https://www.amazon.com/Understanding-Operating-Systems-Ann-McHoes/dp/1305674251\" target=\"_blank\">Understanding operating systems</br> By Ida Flynn</a></p>\\n                        <div class=\"align-left\">\\n                            <p class=\" price green\">Rs.2700</p>\\n                            <p class=\"stock not_stock \" data-stock=\"not in stock\"><i class=\"fa fa-times\" aria-hidden=\"true\"></i> Not in stock</p>\\n                            <div><span class=\"fa fa-star \"></span><span class=\"fa fa-star \"></span><span class=\"fa fa-star not_filled\"></span><span class=\"fa fa-star not_filled\"></span><span class=\"fa fa-star not_filled\"></span></div>\\n                            <p class=\"review green\" data-rating=\"60\">60 Reviews</p>\\n                            <button>Add to cart</button>\\n                        </div>\\n                    </div>\\n                    <div class=\"book_container col-sm-4\">\\n                        <img src=\"images/Computer Systems.jpg\" alt=\"\" title=\"It covers computers\\' data representation, explains how computer architecture&#10; and its underlying meaning changed over the years, and examines&#10; the implementations and performance enhancements of the central processing unit (CPU).\">\\n                        <p  class=\"book_name\"><a href=\"https://www.goodreads.com/book/show/829182.Computer_Systems\" target=\"_blank\">Computer Systems </br> By Randal E. Bryant </a></p>\\n                        <div class=\"align-left\">\\n                            <p class=\" price green\">Rs.1700</p>\\n                            <p class=\"stock in_stock \" data-stock=\"in stock\"><i class=\"fa fa-check\" aria-hidden=\"true\"></i> In stock</p>\\n                            <div><span class=\"fa fa-star \"></span><span class=\"fa fa-star \"></span><span class=\"fa fa-star not_filled\"></span><span class=\"fa fa-star not_filled\"></span><span class=\"fa fa-star not_filled\"></span></div>\\n                            <p class=\"review green\" data-rating=\"25\">25 Reviews</p>\\n                            <button>Add to cart</button>\\n                        </div>\\n                    </div>\\n                    <div class=\"book_container col-sm-4\">\\n                        <img src=\"images/linux bible.jpg\" alt=\"\" title=\"It includes information on cloud computing, with new guidance on containerization,&#10; Ansible automation, and Kubernetes and OpenShift. With a&#10; focus on RHEL 8\">\\n                        <p  class=\"book_name\"><a href=\"https://www.amazon.com/Linux-Bible-Christopher-Negus/dp/111821854X\" target=\"_blank\">Linux bible </br> Book By Christopher Negus</a></p></p>\\n                        <div class=\"align-left\">\\n                            <p class=\" price green\">Rs.1800</p>\\n                            <p class=\"stock not_stock \" data-stock=\"not in stock\"><i class=\"fa fa-times\" aria-hidden=\"true\"></i> Not in stock</p>\\n                            <div><span class=\"fa fa-star\"></span><span class=\"fa fa-star not_filled\"></span><span class=\"fa fa-star not_filled\"></span><span class=\"fa fa-star not_filled\"></span><span class=\"fa fa-star not_filled\"></span></div>\\n                            <p class=\"review green\" data-rating=\"21\">21 Reviews</p>\\n                            <button>Add to cart</button>\\n                        </div>\\n                    </div>\\n                    <div class=\"book_container col-sm-4\">\\n                        <img src=\"images/advanced programming in unix.jpg\" alt=\"\" title=\"This book approaches the LINUX environment as a programming&#10; companion. No previous exposure to LINUX is necessary to utilize&#10; this text.\">\\n                        <p  class=\"book_name\"><a href=\"https://www.amazon.com/dp/0321637739?tag=uuid10-20\" target=\"_blank\">Advanced Programming in the UNIX Environment </br> By W. Stevans</a></p>\\n                        <div class=\"align-left\">\\n                            <p class=\" price green\">Rs.6000</p>\\n                            <p class=\"stock in_stock \" data-stock=\"in stock\"><i class=\"fa fa-check\" aria-hidden=\"true\"></i> In stock</p>\\n                            <div><span class=\"fa fa-star\"></span><span class=\"fa fa-star not_filled\"></span><span class=\"fa fa-star not_filled\"></span><span class=\"fa fa-star not_filled\"></span><span class=\"fa fa-star not_filled\"></span></div>\\n                            <p class=\"review green\" data-rating=\"40\">40 Reviews</p>\\n                            <button>Add to cart</button>\\n                        </div>\\n                    </div>\\n                    <div class=\"book_container col-sm-4\">\\n                        <img src=\"images/OS a design appraoch.png\" alt=\"\" title=\"It covers computers\\' data representation, explains how computer architecture&#10; and its underlying meaning changed over the years, and examines&#10; the implementations and performance enhancements of the central processing unit (CPU).\">\\n                        <p  class=\"book_name\"><a href=\"https://www.amazon.com/s?k=Operating+Systems%3A+A+Design-oriented+Approach&i=stripbooks-intl-ship&ref=nb_sb_noss\" target=\"_blank\">Operating Systems: A Design-oriented Approach</br> By Charles Patrick Crowley</a></p>\\n                        <div class=\"align-left\">\\n                            <p class=\" price green\">Rs.1000</p>\\n                            <p class=\"stock in_stock \" data-stock=\"in stock\"><i class=\"fa fa-check\" aria-hidden=\"true\"></i> In stock</p>\\n                            <div><span class=\"fa fa-star\"></span><span class=\"fa fa-star \"></span><span class=\"fa fa-star \"></span><span class=\"fa fa-star not_filled\"></span><span class=\"fa fa-star not_filled\"></span></div>\\n                            <p class=\"review green\" data-rating=\"90\">90 Reviews</p>\\n                            <button>Add to cart</button>\\n                        </div>\\n                    </div>\\n                    <div class=\"book_container col-sm-4\">\\n                        <img src=\"images/hands on network programming.jpg\" alt=\"\" title=\"It includes information on cloud computing, with new guidance on containerization,&#10; Ansible automation, and Kubernetes and OpenShift. With a&#10; focus on RHEL 8\">\\n                        <p  class=\"book_name\"><a href=\"https://www.amazon.com/Hands-Network-Programming-programming-optimized/dp/1789349869/ref=sr_1_1?crid=11FC0M0GAFA21&amp&keywords=unix+network+programming+2019&amp&qid=1653381349&amp&s=books&amp&sprefix=unix+network+programming+2019%2Cstripbooks-intl-ship%2C356&amp&sr=1-1\" target=\"_blank\">Hands-On Network Programming with C </br> By Lewis Van Winkle</p></a></p>\\n                        <div class=\"align-left\">\\n                            <p class=\" price green\">Rs.1800</p>\\n                            <p class=\"stock in_stock \" data-stock=\"in stock\"><i class=\"fa fa-check\" aria-hidden=\"true\"></i> In stock</p>\\n                            <div><span class=\"fa fa-star\"></span><span class=\"fa fa-star \"></span><span class=\"fa fa-star\"></span><span class=\"fa fa-star \"></span><span class=\"fa fa-star not_filled\"></span></div>\\n                            <p class=\"review green\" data-rating=\"70\">70 Reviews</p>\\n                            <button>Add to cart</button>\\n                        </div>\\n                    </div>\\n            </div>\\n        </div>\\n    </section>\\n    <script src=\"https://cdn.jsdelivr.net/npm/bootstrap@5.2.0-beta1/dist/js/bootstrap.bundle.min.js\" integrity=\"sha384-pprn3073KE6tl6bjs2QrFaJGz5/SUsLqktiwsUTF55Jfv3qYSDhgCecCxMW52nD2\" crossorigin=\"anonymous\"></script>\\n  </body>\\n</html>\\n'\n"
     ]
    }
   ],
   "source": [
    "# Return the html code of the web page in the form of the binary\n",
    "print(responce.content)"
   ]
  },
  {
   "cell_type": "code",
   "execution_count": 13,
   "id": "bd108516",
   "metadata": {},
   "outputs": [
    {
     "name": "stdout",
     "output_type": "stream",
     "text": [
      "<!doctype html>\n",
      "<html lang=\"en\">\n",
      "  <head>\n",
      "    <meta charset=\"utf-8\">\n",
      "    <meta name=\"viewport\" content=\"width=device-width, initial-scale=1\">\n",
      "    <title>BSS2</title>\n",
      "    <!-- external style sheet -->\n",
      "    <link rel=\"stylesheet\" href=\"./index.css\">\n",
      "\n",
      "    <!--Bootstrap style sheet-->\n",
      "    <link href=\"https://cdn.jsdelivr.net/npm/bootstrap@5.2.0-beta1/dist/css/bootstrap.min.css\" rel=\"stylesheet\" integrity=\"sha384-0evHe/X+R7YkIZDRvuzKMRqM+OrBnVFBL6DOitfPri4tjfHxaWutUpFmBp4vmVor\" crossorigin=\"anonymous\">\n",
      "\n",
      "    <!--for icons of tick and cross ans star for in stock-->\n",
      "    <link rel=\"stylesheet\" href=\"https://cdnjs.cloudflare.com/ajax/libs/font-awesome/4.7.0/css/font-awesome.min.css\"> \n",
      "\n",
      "  </head>\n",
      "  <body>\n",
      "    <header class=\"header d-flex align-items-center justify-content-between\">\n",
      "        <img class=\"image-container\" src=\"./images//arif.jpg\" alt=\"arif\"/>\n",
      "         <p> <span class=\"large_text\">Books Scraping Site</span></p>\n",
      "        <img class=\"image-container\" src=\"./images/pucit.jpg\" alt=\"pucit\"/>\n",
      "    </header>\n",
      "    <section>\n",
      "        <div class=\"main-container d-flex align-items-start justify-content-between\">\n",
      "            <div class=\"navbar\">\n",
      "                <ul class=\"nav-links\">\n",
      "                    <div class=\"link text-center\" id=\"book_title\">Books Titles</div>\n",
      "                    <li class=\"link book_type\"><a href=\"index.html\">Operating System</a></li>\n",
      "                    <li class=\"link book_type\"><a href=\"SP.html\">System Programming</a></li>\n",
      "                    <li class=\"link book_type\"><a href=\"CA.html\">Computer Architecture</a></li>\n",
      "                </ul>\n",
      "            </div>\n",
      "            <div class=\"items\">\n",
      "                <div id=\"book_page_titile\">Operating Systems</div>\n",
      "                <div class=\"row\">\n",
      "                    <div class=\"book_container col-sm-4\">\n",
      "                        <img src=\"images/OS concepts.jpg\" alt=\"\" title=\"The Linux Programming Interface (TLPI) is the definitive guide &#10; to the Linux and UNIX programming interface—the interface&#10; employed by nearly every application that runs on a &#10;Linux or UNIX system.\">\n",
      "                        <p  class=\"book_name\"><a href=\"https://www.amazon.com/Operating-System-Concepts-Abridged-Companion/dp/1119456339\" target=\"_blank\">Operating System Concepts </br>By Avi Silberschatz</a></p>\n",
      "                        <div class=\"align-left\">\n",
      "                            <p class=\" price green\">Rs.2000</p>\n",
      "                            <p class=\"stock in_stock \" data-stock=\"in stock\"><i class=\"fa fa-check\" aria-hidden=\"true\"></i> In stock</p>\n",
      "                            <div><span class=\"fa fa-star \"></span><span class=\"fa fa-star \"></span><span class=\"fa fa-star \"></span><span class=\"fa fa-star  not_filled\"></span><span class=\"fa fa-star  not_filled\"></span></div>\n",
      "                            <p class=\"review green\" data-rating=\"20\">20 Reviews</p>\n",
      "                            <button>Add to cart</button>\n",
      "                        </div>\n",
      "                    </div>\n",
      "                    <div class=\"book_container col-sm-4\">\n",
      "                        <img src=\"images/Unix.jpg\" alt=\"\" title=\"It covers many topics not covered in older, more traditional textbook &#10;approaches, such as Python, UNIX System Programming from basics to &#10;socket-based network programming using the client-server paradigm, the &#10;Zettabyte File System (ZFS), and the highly developed X Windows-based&#10; KDE and Gnome GUI desktop environments\">\n",
      "                        <p  class=\"book_name\"><a href=\"https://www.google.com/search?q=Unix+the+textbook+by+mansoor&rlz=1C1CHBD_enPK987PK987&oq=unix+the+textbook+by+mansoor&aqs=chrome.0.69i59j69i57j69i59j69i60l5.4419j0j7&sourceid=chrome&ie=UTF-8\" target=\"_blank\">UNIX The Textbook</br> By Syed Mansoor Sarwar</a></p>\n",
      "                        <div class=\"align-left\">\n",
      "                            <p class=\" price green\">Rs.5000</p>\n",
      "                            <p class=\"stock in_stock \" data-stock=\"in stock\"><i class=\"fa fa-check\" aria-hidden=\"true\"></i> In stock</p>\n",
      "                            <div><span class=\"fa fa-star \"></span><span class=\"fa fa-star \"></span><span class=\"fa fa-star \"></span><span class=\"fa fa-star \"></span><span class=\"fa fa-star \"></span></div>\n",
      "                            <p class=\"review green\" data-rating=\"100\">100 Reviews</p>\n",
      "                            <button>Add to cart</button>\n",
      "                        </div>\n",
      "                    </div>\n",
      "                    <div class=\"book_container col-sm-4\">\n",
      "                        <img src=\"images/taxonomy.jpg\" alt=\"\" title=\"Intrusion Detection using System Call Sequence\">\n",
      "                        <p  class=\"book_name\"><a href=\"https://www.amazon.in/Taxonomy-Ids-Arif-Butt/dp/3639294092\" target=\"_blank\">Taxonomy of IDS </br>By Arif Butt</a></p>\n",
      "                        <div class=\"align-left\">\n",
      "                            <p class=\" price green\">Rs.6900</p>\n",
      "                            <p class=\"stock not_stock \" data-stock=\"not in stock\"><i class=\"fa fa-times\" aria-hidden=\"true\"></i> Not in stock</p>\n",
      "                            <div><span class=\"fa fa-star \"></span><span class=\"fa fa-star \"></span><span class=\"fa fa-star\"></span><span class=\"fa fa-star\"></span><span class=\"fa fa-star not_filled\"></span></div>\n",
      "                            <p class=\"review green\" data-rating=\"20\">20 Reviews</p>\n",
      "                            <button>Add to cart</button>\n",
      "                        </div>\n",
      "                    </div>\n",
      "                    <div class=\"book_container col-sm-4\">\n",
      "                        <img src=\"images/understanding OS.jpg\" alt=\"\" title=\"This book approaches the LINUX environment as a programming&#10; companion. No previous exposure to LINUX is necessary to utilize&#10; this text.\">\n",
      "                        <p  class=\"book_name\"><a href=\"https://www.amazon.com/Understanding-Operating-Systems-Ann-McHoes/dp/1305674251\" target=\"_blank\">Understanding operating systems</br> By Ida Flynn</a></p>\n",
      "                        <div class=\"align-left\">\n",
      "                            <p class=\" price green\">Rs.2700</p>\n",
      "                            <p class=\"stock not_stock \" data-stock=\"not in stock\"><i class=\"fa fa-times\" aria-hidden=\"true\"></i> Not in stock</p>\n",
      "                            <div><span class=\"fa fa-star \"></span><span class=\"fa fa-star \"></span><span class=\"fa fa-star not_filled\"></span><span class=\"fa fa-star not_filled\"></span><span class=\"fa fa-star not_filled\"></span></div>\n",
      "                            <p class=\"review green\" data-rating=\"60\">60 Reviews</p>\n",
      "                            <button>Add to cart</button>\n",
      "                        </div>\n",
      "                    </div>\n",
      "                    <div class=\"book_container col-sm-4\">\n",
      "                        <img src=\"images/Computer Systems.jpg\" alt=\"\" title=\"It covers computers' data representation, explains how computer architecture&#10; and its underlying meaning changed over the years, and examines&#10; the implementations and performance enhancements of the central processing unit (CPU).\">\n",
      "                        <p  class=\"book_name\"><a href=\"https://www.goodreads.com/book/show/829182.Computer_Systems\" target=\"_blank\">Computer Systems </br> By Randal E. Bryant </a></p>\n",
      "                        <div class=\"align-left\">\n",
      "                            <p class=\" price green\">Rs.1700</p>\n",
      "                            <p class=\"stock in_stock \" data-stock=\"in stock\"><i class=\"fa fa-check\" aria-hidden=\"true\"></i> In stock</p>\n",
      "                            <div><span class=\"fa fa-star \"></span><span class=\"fa fa-star \"></span><span class=\"fa fa-star not_filled\"></span><span class=\"fa fa-star not_filled\"></span><span class=\"fa fa-star not_filled\"></span></div>\n",
      "                            <p class=\"review green\" data-rating=\"25\">25 Reviews</p>\n",
      "                            <button>Add to cart</button>\n",
      "                        </div>\n",
      "                    </div>\n",
      "                    <div class=\"book_container col-sm-4\">\n",
      "                        <img src=\"images/linux bible.jpg\" alt=\"\" title=\"It includes information on cloud computing, with new guidance on containerization,&#10; Ansible automation, and Kubernetes and OpenShift. With a&#10; focus on RHEL 8\">\n",
      "                        <p  class=\"book_name\"><a href=\"https://www.amazon.com/Linux-Bible-Christopher-Negus/dp/111821854X\" target=\"_blank\">Linux bible </br> Book By Christopher Negus</a></p></p>\n",
      "                        <div class=\"align-left\">\n",
      "                            <p class=\" price green\">Rs.1800</p>\n",
      "                            <p class=\"stock not_stock \" data-stock=\"not in stock\"><i class=\"fa fa-times\" aria-hidden=\"true\"></i> Not in stock</p>\n",
      "                            <div><span class=\"fa fa-star\"></span><span class=\"fa fa-star not_filled\"></span><span class=\"fa fa-star not_filled\"></span><span class=\"fa fa-star not_filled\"></span><span class=\"fa fa-star not_filled\"></span></div>\n",
      "                            <p class=\"review green\" data-rating=\"21\">21 Reviews</p>\n",
      "                            <button>Add to cart</button>\n",
      "                        </div>\n",
      "                    </div>\n",
      "                    <div class=\"book_container col-sm-4\">\n",
      "                        <img src=\"images/advanced programming in unix.jpg\" alt=\"\" title=\"This book approaches the LINUX environment as a programming&#10; companion. No previous exposure to LINUX is necessary to utilize&#10; this text.\">\n",
      "                        <p  class=\"book_name\"><a href=\"https://www.amazon.com/dp/0321637739?tag=uuid10-20\" target=\"_blank\">Advanced Programming in the UNIX Environment </br> By W. Stevans</a></p>\n",
      "                        <div class=\"align-left\">\n",
      "                            <p class=\" price green\">Rs.6000</p>\n",
      "                            <p class=\"stock in_stock \" data-stock=\"in stock\"><i class=\"fa fa-check\" aria-hidden=\"true\"></i> In stock</p>\n",
      "                            <div><span class=\"fa fa-star\"></span><span class=\"fa fa-star not_filled\"></span><span class=\"fa fa-star not_filled\"></span><span class=\"fa fa-star not_filled\"></span><span class=\"fa fa-star not_filled\"></span></div>\n",
      "                            <p class=\"review green\" data-rating=\"40\">40 Reviews</p>\n",
      "                            <button>Add to cart</button>\n",
      "                        </div>\n",
      "                    </div>\n",
      "                    <div class=\"book_container col-sm-4\">\n",
      "                        <img src=\"images/OS a design appraoch.png\" alt=\"\" title=\"It covers computers' data representation, explains how computer architecture&#10; and its underlying meaning changed over the years, and examines&#10; the implementations and performance enhancements of the central processing unit (CPU).\">\n",
      "                        <p  class=\"book_name\"><a href=\"https://www.amazon.com/s?k=Operating+Systems%3A+A+Design-oriented+Approach&i=stripbooks-intl-ship&ref=nb_sb_noss\" target=\"_blank\">Operating Systems: A Design-oriented Approach</br> By Charles Patrick Crowley</a></p>\n",
      "                        <div class=\"align-left\">\n",
      "                            <p class=\" price green\">Rs.1000</p>\n",
      "                            <p class=\"stock in_stock \" data-stock=\"in stock\"><i class=\"fa fa-check\" aria-hidden=\"true\"></i> In stock</p>\n",
      "                            <div><span class=\"fa fa-star\"></span><span class=\"fa fa-star \"></span><span class=\"fa fa-star \"></span><span class=\"fa fa-star not_filled\"></span><span class=\"fa fa-star not_filled\"></span></div>\n",
      "                            <p class=\"review green\" data-rating=\"90\">90 Reviews</p>\n",
      "                            <button>Add to cart</button>\n",
      "                        </div>\n",
      "                    </div>\n",
      "                    <div class=\"book_container col-sm-4\">\n",
      "                        <img src=\"images/hands on network programming.jpg\" alt=\"\" title=\"It includes information on cloud computing, with new guidance on containerization,&#10; Ansible automation, and Kubernetes and OpenShift. With a&#10; focus on RHEL 8\">\n",
      "                        <p  class=\"book_name\"><a href=\"https://www.amazon.com/Hands-Network-Programming-programming-optimized/dp/1789349869/ref=sr_1_1?crid=11FC0M0GAFA21&amp&keywords=unix+network+programming+2019&amp&qid=1653381349&amp&s=books&amp&sprefix=unix+network+programming+2019%2Cstripbooks-intl-ship%2C356&amp&sr=1-1\" target=\"_blank\">Hands-On Network Programming with C </br> By Lewis Van Winkle</p></a></p>\n",
      "                        <div class=\"align-left\">\n",
      "                            <p class=\" price green\">Rs.1800</p>\n",
      "                            <p class=\"stock in_stock \" data-stock=\"in stock\"><i class=\"fa fa-check\" aria-hidden=\"true\"></i> In stock</p>\n",
      "                            <div><span class=\"fa fa-star\"></span><span class=\"fa fa-star \"></span><span class=\"fa fa-star\"></span><span class=\"fa fa-star \"></span><span class=\"fa fa-star not_filled\"></span></div>\n",
      "                            <p class=\"review green\" data-rating=\"70\">70 Reviews</p>\n",
      "                            <button>Add to cart</button>\n",
      "                        </div>\n",
      "                    </div>\n",
      "            </div>\n",
      "        </div>\n",
      "    </section>\n",
      "    <script src=\"https://cdn.jsdelivr.net/npm/bootstrap@5.2.0-beta1/dist/js/bootstrap.bundle.min.js\" integrity=\"sha384-pprn3073KE6tl6bjs2QrFaJGz5/SUsLqktiwsUTF55Jfv3qYSDhgCecCxMW52nD2\" crossorigin=\"anonymous\"></script>\n",
      "  </body>\n",
      "</html>\n",
      "\n"
     ]
    }
   ],
   "source": [
    "# Return the html code of the web page in the form of string\n",
    "print(responce.text)"
   ]
  },
  {
   "cell_type": "markdown",
   "id": "370dfef8",
   "metadata": {},
   "source": [
    "### Creating the `Soup` Object from the `BeautifulSoup` Library\n",
    "- The `BeautifulSoup()` method is used to create a BeautifulSoup object\n",
    ">- BeautifulSoup(markup, 'lxml')\n",
    "- The first argument to the BeautifulSoup constructor is a string or an open filehandle containing the markup you want too be parsed\n",
    "- The second argument is how you would like the markup parsed. If you do not specify anything, you will get the best HTML parser that's installed. Beautiful Soup ranks lxml's parser as being the best, then html5lib's, and then python's build-in parser\n",
    "- The method returns a BeautifulSoup object which represents the parsed document and knows how to naviagte through the DOM."
   ]
  },
  {
   "cell_type": "code",
   "execution_count": 15,
   "id": "6b311955",
   "metadata": {},
   "outputs": [
    {
     "name": "stdout",
     "output_type": "stream",
     "text": [
      "<class 'bs4.BeautifulSoup'>\n"
     ]
    }
   ],
   "source": [
    "from bs4 import BeautifulSoup\n",
    "soup = BeautifulSoup(responce.text, 'lxml')\n",
    "print(type(soup))"
   ]
  },
  {
   "cell_type": "code",
   "execution_count": 16,
   "id": "ef1b1aab",
   "metadata": {
    "scrolled": false
   },
   "outputs": [
    {
     "name": "stdout",
     "output_type": "stream",
     "text": [
      "<!DOCTYPE html>\n",
      "<html lang=\"en\">\n",
      "<head>\n",
      "<meta charset=\"utf-8\"/>\n",
      "<meta content=\"width=device-width, initial-scale=1\" name=\"viewport\"/>\n",
      "<title>BSS2</title>\n",
      "<!-- external style sheet -->\n",
      "<link href=\"./index.css\" rel=\"stylesheet\"/>\n",
      "<!--Bootstrap style sheet-->\n",
      "<link crossorigin=\"anonymous\" href=\"https://cdn.jsdelivr.net/npm/bootstrap@5.2.0-beta1/dist/css/bootstrap.min.css\" integrity=\"sha384-0evHe/X+R7YkIZDRvuzKMRqM+OrBnVFBL6DOitfPri4tjfHxaWutUpFmBp4vmVor\" rel=\"stylesheet\"/>\n",
      "<!--for icons of tick and cross ans star for in stock-->\n",
      "<link href=\"https://cdnjs.cloudflare.com/ajax/libs/font-awesome/4.7.0/css/font-awesome.min.css\" rel=\"stylesheet\"/>\n",
      "</head>\n",
      "<body>\n",
      "<header class=\"header d-flex align-items-center justify-content-between\">\n",
      "<img alt=\"arif\" class=\"image-container\" src=\"./images//arif.jpg\"/>\n",
      "<p> <span class=\"large_text\">Books Scraping Site</span></p>\n",
      "<img alt=\"pucit\" class=\"image-container\" src=\"./images/pucit.jpg\"/>\n",
      "</header>\n",
      "<section>\n",
      "<div class=\"main-container d-flex align-items-start justify-content-between\">\n",
      "<div class=\"navbar\">\n",
      "<ul class=\"nav-links\">\n",
      "<div class=\"link text-center\" id=\"book_title\">Books Titles</div>\n",
      "<li class=\"link book_type\"><a href=\"index.html\">Operating System</a></li>\n",
      "<li class=\"link book_type\"><a href=\"SP.html\">System Programming</a></li>\n",
      "<li class=\"link book_type\"><a href=\"CA.html\">Computer Architecture</a></li>\n",
      "</ul>\n",
      "</div>\n",
      "<div class=\"items\">\n",
      "<div id=\"book_page_titile\">Operating Systems</div>\n",
      "<div class=\"row\">\n",
      "<div class=\"book_container col-sm-4\">\n",
      "<img alt=\"\" src=\"images/OS concepts.jpg\" title=\"The Linux Programming Interface (TLPI) is the definitive guide \n",
      " to the Linux and UNIX programming interface—the interface\n",
      " employed by nearly every application that runs on a \n",
      "Linux or UNIX system.\"/>\n",
      "<p class=\"book_name\"><a href=\"https://www.amazon.com/Operating-System-Concepts-Abridged-Companion/dp/1119456339\" target=\"_blank\">Operating System Concepts By Avi Silberschatz</a></p>\n",
      "<div class=\"align-left\">\n",
      "<p class=\"price green\">Rs.2000</p>\n",
      "<p class=\"stock in_stock\" data-stock=\"in stock\"><i aria-hidden=\"true\" class=\"fa fa-check\"></i> In stock</p>\n",
      "<div><span class=\"fa fa-star\"></span><span class=\"fa fa-star\"></span><span class=\"fa fa-star\"></span><span class=\"fa fa-star not_filled\"></span><span class=\"fa fa-star not_filled\"></span></div>\n",
      "<p class=\"review green\" data-rating=\"20\">20 Reviews</p>\n",
      "<button>Add to cart</button>\n",
      "</div>\n",
      "</div>\n",
      "<div class=\"book_container col-sm-4\">\n",
      "<img alt=\"\" src=\"images/Unix.jpg\" title=\"It covers many topics not covered in older, more traditional textbook \n",
      "approaches, such as Python, UNIX System Programming from basics to \n",
      "socket-based network programming using the client-server paradigm, the \n",
      "Zettabyte File System (ZFS), and the highly developed X Windows-based\n",
      " KDE and Gnome GUI desktop environments\"/>\n",
      "<p class=\"book_name\"><a href=\"https://www.google.com/search?q=Unix+the+textbook+by+mansoor&amp;rlz=1C1CHBD_enPK987PK987&amp;oq=unix+the+textbook+by+mansoor&amp;aqs=chrome.0.69i59j69i57j69i59j69i60l5.4419j0j7&amp;sourceid=chrome&amp;ie=UTF-8\" target=\"_blank\">UNIX The Textbook By Syed Mansoor Sarwar</a></p>\n",
      "<div class=\"align-left\">\n",
      "<p class=\"price green\">Rs.5000</p>\n",
      "<p class=\"stock in_stock\" data-stock=\"in stock\"><i aria-hidden=\"true\" class=\"fa fa-check\"></i> In stock</p>\n",
      "<div><span class=\"fa fa-star\"></span><span class=\"fa fa-star\"></span><span class=\"fa fa-star\"></span><span class=\"fa fa-star\"></span><span class=\"fa fa-star\"></span></div>\n",
      "<p class=\"review green\" data-rating=\"100\">100 Reviews</p>\n",
      "<button>Add to cart</button>\n",
      "</div>\n",
      "</div>\n",
      "<div class=\"book_container col-sm-4\">\n",
      "<img alt=\"\" src=\"images/taxonomy.jpg\" title=\"Intrusion Detection using System Call Sequence\"/>\n",
      "<p class=\"book_name\"><a href=\"https://www.amazon.in/Taxonomy-Ids-Arif-Butt/dp/3639294092\" target=\"_blank\">Taxonomy of IDS By Arif Butt</a></p>\n",
      "<div class=\"align-left\">\n",
      "<p class=\"price green\">Rs.6900</p>\n",
      "<p class=\"stock not_stock\" data-stock=\"not in stock\"><i aria-hidden=\"true\" class=\"fa fa-times\"></i> Not in stock</p>\n",
      "<div><span class=\"fa fa-star\"></span><span class=\"fa fa-star\"></span><span class=\"fa fa-star\"></span><span class=\"fa fa-star\"></span><span class=\"fa fa-star not_filled\"></span></div>\n",
      "<p class=\"review green\" data-rating=\"20\">20 Reviews</p>\n",
      "<button>Add to cart</button>\n",
      "</div>\n",
      "</div>\n",
      "<div class=\"book_container col-sm-4\">\n",
      "<img alt=\"\" src=\"images/understanding OS.jpg\" title=\"This book approaches the LINUX environment as a programming\n",
      " companion. No previous exposure to LINUX is necessary to utilize\n",
      " this text.\"/>\n",
      "<p class=\"book_name\"><a href=\"https://www.amazon.com/Understanding-Operating-Systems-Ann-McHoes/dp/1305674251\" target=\"_blank\">Understanding operating systems By Ida Flynn</a></p>\n",
      "<div class=\"align-left\">\n",
      "<p class=\"price green\">Rs.2700</p>\n",
      "<p class=\"stock not_stock\" data-stock=\"not in stock\"><i aria-hidden=\"true\" class=\"fa fa-times\"></i> Not in stock</p>\n",
      "<div><span class=\"fa fa-star\"></span><span class=\"fa fa-star\"></span><span class=\"fa fa-star not_filled\"></span><span class=\"fa fa-star not_filled\"></span><span class=\"fa fa-star not_filled\"></span></div>\n",
      "<p class=\"review green\" data-rating=\"60\">60 Reviews</p>\n",
      "<button>Add to cart</button>\n",
      "</div>\n",
      "</div>\n",
      "<div class=\"book_container col-sm-4\">\n",
      "<img alt=\"\" src=\"images/Computer Systems.jpg\" title=\"It covers computers' data representation, explains how computer architecture\n",
      " and its underlying meaning changed over the years, and examines\n",
      " the implementations and performance enhancements of the central processing unit (CPU).\"/>\n",
      "<p class=\"book_name\"><a href=\"https://www.goodreads.com/book/show/829182.Computer_Systems\" target=\"_blank\">Computer Systems  By Randal E. Bryant </a></p>\n",
      "<div class=\"align-left\">\n",
      "<p class=\"price green\">Rs.1700</p>\n",
      "<p class=\"stock in_stock\" data-stock=\"in stock\"><i aria-hidden=\"true\" class=\"fa fa-check\"></i> In stock</p>\n",
      "<div><span class=\"fa fa-star\"></span><span class=\"fa fa-star\"></span><span class=\"fa fa-star not_filled\"></span><span class=\"fa fa-star not_filled\"></span><span class=\"fa fa-star not_filled\"></span></div>\n",
      "<p class=\"review green\" data-rating=\"25\">25 Reviews</p>\n",
      "<button>Add to cart</button>\n",
      "</div>\n",
      "</div>\n",
      "<div class=\"book_container col-sm-4\">\n",
      "<img alt=\"\" src=\"images/linux bible.jpg\" title=\"It includes information on cloud computing, with new guidance on containerization,\n",
      " Ansible automation, and Kubernetes and OpenShift. With a\n",
      " focus on RHEL 8\"/>\n",
      "<p class=\"book_name\"><a href=\"https://www.amazon.com/Linux-Bible-Christopher-Negus/dp/111821854X\" target=\"_blank\">Linux bible  Book By Christopher Negus</a></p>\n",
      "<div class=\"align-left\">\n",
      "<p class=\"price green\">Rs.1800</p>\n",
      "<p class=\"stock not_stock\" data-stock=\"not in stock\"><i aria-hidden=\"true\" class=\"fa fa-times\"></i> Not in stock</p>\n",
      "<div><span class=\"fa fa-star\"></span><span class=\"fa fa-star not_filled\"></span><span class=\"fa fa-star not_filled\"></span><span class=\"fa fa-star not_filled\"></span><span class=\"fa fa-star not_filled\"></span></div>\n",
      "<p class=\"review green\" data-rating=\"21\">21 Reviews</p>\n",
      "<button>Add to cart</button>\n",
      "</div>\n",
      "</div>\n",
      "<div class=\"book_container col-sm-4\">\n",
      "<img alt=\"\" src=\"images/advanced programming in unix.jpg\" title=\"This book approaches the LINUX environment as a programming\n",
      " companion. No previous exposure to LINUX is necessary to utilize\n",
      " this text.\"/>\n",
      "<p class=\"book_name\"><a href=\"https://www.amazon.com/dp/0321637739?tag=uuid10-20\" target=\"_blank\">Advanced Programming in the UNIX Environment  By W. Stevans</a></p>\n",
      "<div class=\"align-left\">\n",
      "<p class=\"price green\">Rs.6000</p>\n",
      "<p class=\"stock in_stock\" data-stock=\"in stock\"><i aria-hidden=\"true\" class=\"fa fa-check\"></i> In stock</p>\n",
      "<div><span class=\"fa fa-star\"></span><span class=\"fa fa-star not_filled\"></span><span class=\"fa fa-star not_filled\"></span><span class=\"fa fa-star not_filled\"></span><span class=\"fa fa-star not_filled\"></span></div>\n",
      "<p class=\"review green\" data-rating=\"40\">40 Reviews</p>\n",
      "<button>Add to cart</button>\n",
      "</div>\n",
      "</div>\n",
      "<div class=\"book_container col-sm-4\">\n",
      "<img alt=\"\" src=\"images/OS a design appraoch.png\" title=\"It covers computers' data representation, explains how computer architecture\n",
      " and its underlying meaning changed over the years, and examines\n",
      " the implementations and performance enhancements of the central processing unit (CPU).\"/>\n",
      "<p class=\"book_name\"><a href=\"https://www.amazon.com/s?k=Operating+Systems%3A+A+Design-oriented+Approach&amp;i=stripbooks-intl-ship&amp;ref=nb_sb_noss\" target=\"_blank\">Operating Systems: A Design-oriented Approach By Charles Patrick Crowley</a></p>\n",
      "<div class=\"align-left\">\n",
      "<p class=\"price green\">Rs.1000</p>\n",
      "<p class=\"stock in_stock\" data-stock=\"in stock\"><i aria-hidden=\"true\" class=\"fa fa-check\"></i> In stock</p>\n",
      "<div><span class=\"fa fa-star\"></span><span class=\"fa fa-star\"></span><span class=\"fa fa-star\"></span><span class=\"fa fa-star not_filled\"></span><span class=\"fa fa-star not_filled\"></span></div>\n",
      "<p class=\"review green\" data-rating=\"90\">90 Reviews</p>\n",
      "<button>Add to cart</button>\n",
      "</div>\n",
      "</div>\n",
      "<div class=\"book_container col-sm-4\">\n",
      "<img alt=\"\" src=\"images/hands on network programming.jpg\" title=\"It includes information on cloud computing, with new guidance on containerization,\n",
      " Ansible automation, and Kubernetes and OpenShift. With a\n",
      " focus on RHEL 8\"/>\n",
      "<p class=\"book_name\"><a href=\"https://www.amazon.com/Hands-Network-Programming-programming-optimized/dp/1789349869/ref=sr_1_1?crid=11FC0M0GAFA21&amp;amp&amp;keywords=unix+network+programming+2019&amp;amp&amp;qid=1653381349&amp;amp&amp;s=books&amp;amp&amp;sprefix=unix+network+programming+2019%2Cstripbooks-intl-ship%2C356&amp;amp&amp;sr=1-1\" target=\"_blank\">Hands-On Network Programming with C  By Lewis Van Winkle</a></p>\n",
      "<div class=\"align-left\">\n",
      "<p class=\"price green\">Rs.1800</p>\n",
      "<p class=\"stock in_stock\" data-stock=\"in stock\"><i aria-hidden=\"true\" class=\"fa fa-check\"></i> In stock</p>\n",
      "<div><span class=\"fa fa-star\"></span><span class=\"fa fa-star\"></span><span class=\"fa fa-star\"></span><span class=\"fa fa-star\"></span><span class=\"fa fa-star not_filled\"></span></div>\n",
      "<p class=\"review green\" data-rating=\"70\">70 Reviews</p>\n",
      "<button>Add to cart</button>\n",
      "</div>\n",
      "</div>\n",
      "</div>\n",
      "</div>\n",
      "<script crossorigin=\"anonymous\" integrity=\"sha384-pprn3073KE6tl6bjs2QrFaJGz5/SUsLqktiwsUTF55Jfv3qYSDhgCecCxMW52nD2\" src=\"https://cdn.jsdelivr.net/npm/bootstrap@5.2.0-beta1/dist/js/bootstrap.bundle.min.js\"></script>\n",
      "</div></section></body>\n",
      "</html>\n",
      "\n"
     ]
    }
   ],
   "source": [
    "# All the html code without identation\n",
    "print(soup)"
   ]
  },
  {
   "cell_type": "code",
   "execution_count": 18,
   "id": "ab95c512",
   "metadata": {},
   "outputs": [
    {
     "name": "stdout",
     "output_type": "stream",
     "text": [
      "<!DOCTYPE html>\n",
      "<html lang=\"en\">\n",
      " <head>\n",
      "  <meta charset=\"utf-8\"/>\n",
      "  <meta content=\"width=device-width, initial-scale=1\" name=\"viewport\"/>\n",
      "  <title>\n",
      "   BSS2\n",
      "  </title>\n",
      "  <!-- external style sheet -->\n",
      "  <link href=\"./index.css\" rel=\"stylesheet\"/>\n",
      "  <!--Bootstrap style sheet-->\n",
      "  <link crossorigin=\"anonymous\" href=\"https://cdn.jsdelivr.net/npm/bootstrap@5.2.0-beta1/dist/css/bootstrap.min.css\" integrity=\"sha384-0evHe/X+R7YkIZDRvuzKMRqM+OrBnVFBL6DOitfPri4tjfHxaWutUpFmBp4vmVor\" rel=\"stylesheet\"/>\n",
      "  <!--for icons of tick and cross ans star for in stock-->\n",
      "  <link href=\"https://cdnjs.cloudflare.com/ajax/libs/font-awesome/4.7.0/css/font-awesome.min.css\" rel=\"stylesheet\"/>\n",
      " </head>\n",
      " <body>\n",
      "  <header class=\"header d-flex align-items-center justify-content-between\">\n",
      "   <img alt=\"arif\" class=\"image-container\" src=\"./images//arif.jpg\"/>\n",
      "   <p>\n",
      "    <span class=\"large_text\">\n",
      "     Books Scraping Site\n",
      "    </span>\n",
      "   </p>\n",
      "   <img alt=\"pucit\" class=\"image-container\" src=\"./images/pucit.jpg\"/>\n",
      "  </header>\n",
      "  <section>\n",
      "   <div class=\"main-container d-flex align-items-start justify-content-between\">\n",
      "    <div class=\"navbar\">\n",
      "     <ul class=\"nav-links\">\n",
      "      <div class=\"link text-center\" id=\"book_title\">\n",
      "       Books Titles\n",
      "      </div>\n",
      "      <li class=\"link book_type\">\n",
      "       <a href=\"index.html\">\n",
      "        Operating System\n",
      "       </a>\n",
      "      </li>\n",
      "      <li class=\"link book_type\">\n",
      "       <a href=\"SP.html\">\n",
      "        System Programming\n",
      "       </a>\n",
      "      </li>\n",
      "      <li class=\"link book_type\">\n",
      "       <a href=\"CA.html\">\n",
      "        Computer Architecture\n",
      "       </a>\n",
      "      </li>\n",
      "     </ul>\n",
      "    </div>\n",
      "    <div class=\"items\">\n",
      "     <div id=\"book_page_titile\">\n",
      "      Operating Systems\n",
      "     </div>\n",
      "     <div class=\"row\">\n",
      "      <div class=\"book_container col-sm-4\">\n",
      "       <img alt=\"\" src=\"images/OS concepts.jpg\" title=\"The Linux Programming Interface (TLPI) is the definitive guide \n",
      " to the Linux and UNIX programming interface—the interface\n",
      " employed by nearly every application that runs on a \n",
      "Linux or UNIX system.\"/>\n",
      "       <p class=\"book_name\">\n",
      "        <a href=\"https://www.amazon.com/Operating-System-Concepts-Abridged-Companion/dp/1119456339\" target=\"_blank\">\n",
      "         Operating System Concepts By Avi Silberschatz\n",
      "        </a>\n",
      "       </p>\n",
      "       <div class=\"align-left\">\n",
      "        <p class=\"price green\">\n",
      "         Rs.2000\n",
      "        </p>\n",
      "        <p class=\"stock in_stock\" data-stock=\"in stock\">\n",
      "         <i aria-hidden=\"true\" class=\"fa fa-check\">\n",
      "         </i>\n",
      "         In stock\n",
      "        </p>\n",
      "        <div>\n",
      "         <span class=\"fa fa-star\">\n",
      "         </span>\n",
      "         <span class=\"fa fa-star\">\n",
      "         </span>\n",
      "         <span class=\"fa fa-star\">\n",
      "         </span>\n",
      "         <span class=\"fa fa-star not_filled\">\n",
      "         </span>\n",
      "         <span class=\"fa fa-star not_filled\">\n",
      "         </span>\n",
      "        </div>\n",
      "        <p class=\"review green\" data-rating=\"20\">\n",
      "         20 Reviews\n",
      "        </p>\n",
      "        <button>\n",
      "         Add to cart\n",
      "        </button>\n",
      "       </div>\n",
      "      </div>\n",
      "      <div class=\"book_container col-sm-4\">\n",
      "       <img alt=\"\" src=\"images/Unix.jpg\" title=\"It covers many topics not covered in older, more traditional textbook \n",
      "approaches, such as Python, UNIX System Programming from basics to \n",
      "socket-based network programming using the client-server paradigm, the \n",
      "Zettabyte File System (ZFS), and the highly developed X Windows-based\n",
      " KDE and Gnome GUI desktop environments\"/>\n",
      "       <p class=\"book_name\">\n",
      "        <a href=\"https://www.google.com/search?q=Unix+the+textbook+by+mansoor&amp;rlz=1C1CHBD_enPK987PK987&amp;oq=unix+the+textbook+by+mansoor&amp;aqs=chrome.0.69i59j69i57j69i59j69i60l5.4419j0j7&amp;sourceid=chrome&amp;ie=UTF-8\" target=\"_blank\">\n",
      "         UNIX The Textbook By Syed Mansoor Sarwar\n",
      "        </a>\n",
      "       </p>\n",
      "       <div class=\"align-left\">\n",
      "        <p class=\"price green\">\n",
      "         Rs.5000\n",
      "        </p>\n",
      "        <p class=\"stock in_stock\" data-stock=\"in stock\">\n",
      "         <i aria-hidden=\"true\" class=\"fa fa-check\">\n",
      "         </i>\n",
      "         In stock\n",
      "        </p>\n",
      "        <div>\n",
      "         <span class=\"fa fa-star\">\n",
      "         </span>\n",
      "         <span class=\"fa fa-star\">\n",
      "         </span>\n",
      "         <span class=\"fa fa-star\">\n",
      "         </span>\n",
      "         <span class=\"fa fa-star\">\n",
      "         </span>\n",
      "         <span class=\"fa fa-star\">\n",
      "         </span>\n",
      "        </div>\n",
      "        <p class=\"review green\" data-rating=\"100\">\n",
      "         100 Reviews\n",
      "        </p>\n",
      "        <button>\n",
      "         Add to cart\n",
      "        </button>\n",
      "       </div>\n",
      "      </div>\n",
      "      <div class=\"book_container col-sm-4\">\n",
      "       <img alt=\"\" src=\"images/taxonomy.jpg\" title=\"Intrusion Detection using System Call Sequence\"/>\n",
      "       <p class=\"book_name\">\n",
      "        <a href=\"https://www.amazon.in/Taxonomy-Ids-Arif-Butt/dp/3639294092\" target=\"_blank\">\n",
      "         Taxonomy of IDS By Arif Butt\n",
      "        </a>\n",
      "       </p>\n",
      "       <div class=\"align-left\">\n",
      "        <p class=\"price green\">\n",
      "         Rs.6900\n",
      "        </p>\n",
      "        <p class=\"stock not_stock\" data-stock=\"not in stock\">\n",
      "         <i aria-hidden=\"true\" class=\"fa fa-times\">\n",
      "         </i>\n",
      "         Not in stock\n",
      "        </p>\n",
      "        <div>\n",
      "         <span class=\"fa fa-star\">\n",
      "         </span>\n",
      "         <span class=\"fa fa-star\">\n",
      "         </span>\n",
      "         <span class=\"fa fa-star\">\n",
      "         </span>\n",
      "         <span class=\"fa fa-star\">\n",
      "         </span>\n",
      "         <span class=\"fa fa-star not_filled\">\n",
      "         </span>\n",
      "        </div>\n",
      "        <p class=\"review green\" data-rating=\"20\">\n",
      "         20 Reviews\n",
      "        </p>\n",
      "        <button>\n",
      "         Add to cart\n",
      "        </button>\n",
      "       </div>\n",
      "      </div>\n",
      "      <div class=\"book_container col-sm-4\">\n",
      "       <img alt=\"\" src=\"images/understanding OS.jpg\" title=\"This book approaches the LINUX environment as a programming\n",
      " companion. No previous exposure to LINUX is necessary to utilize\n",
      " this text.\"/>\n",
      "       <p class=\"book_name\">\n",
      "        <a href=\"https://www.amazon.com/Understanding-Operating-Systems-Ann-McHoes/dp/1305674251\" target=\"_blank\">\n",
      "         Understanding operating systems By Ida Flynn\n",
      "        </a>\n",
      "       </p>\n",
      "       <div class=\"align-left\">\n",
      "        <p class=\"price green\">\n",
      "         Rs.2700\n",
      "        </p>\n",
      "        <p class=\"stock not_stock\" data-stock=\"not in stock\">\n",
      "         <i aria-hidden=\"true\" class=\"fa fa-times\">\n",
      "         </i>\n",
      "         Not in stock\n",
      "        </p>\n",
      "        <div>\n",
      "         <span class=\"fa fa-star\">\n",
      "         </span>\n",
      "         <span class=\"fa fa-star\">\n",
      "         </span>\n",
      "         <span class=\"fa fa-star not_filled\">\n",
      "         </span>\n",
      "         <span class=\"fa fa-star not_filled\">\n",
      "         </span>\n",
      "         <span class=\"fa fa-star not_filled\">\n",
      "         </span>\n",
      "        </div>\n",
      "        <p class=\"review green\" data-rating=\"60\">\n",
      "         60 Reviews\n",
      "        </p>\n",
      "        <button>\n",
      "         Add to cart\n",
      "        </button>\n",
      "       </div>\n",
      "      </div>\n",
      "      <div class=\"book_container col-sm-4\">\n",
      "       <img alt=\"\" src=\"images/Computer Systems.jpg\" title=\"It covers computers' data representation, explains how computer architecture\n",
      " and its underlying meaning changed over the years, and examines\n",
      " the implementations and performance enhancements of the central processing unit (CPU).\"/>\n",
      "       <p class=\"book_name\">\n",
      "        <a href=\"https://www.goodreads.com/book/show/829182.Computer_Systems\" target=\"_blank\">\n",
      "         Computer Systems  By Randal E. Bryant\n",
      "        </a>\n",
      "       </p>\n",
      "       <div class=\"align-left\">\n",
      "        <p class=\"price green\">\n",
      "         Rs.1700\n",
      "        </p>\n",
      "        <p class=\"stock in_stock\" data-stock=\"in stock\">\n",
      "         <i aria-hidden=\"true\" class=\"fa fa-check\">\n",
      "         </i>\n",
      "         In stock\n",
      "        </p>\n",
      "        <div>\n",
      "         <span class=\"fa fa-star\">\n",
      "         </span>\n",
      "         <span class=\"fa fa-star\">\n",
      "         </span>\n",
      "         <span class=\"fa fa-star not_filled\">\n",
      "         </span>\n",
      "         <span class=\"fa fa-star not_filled\">\n",
      "         </span>\n",
      "         <span class=\"fa fa-star not_filled\">\n",
      "         </span>\n",
      "        </div>\n",
      "        <p class=\"review green\" data-rating=\"25\">\n",
      "         25 Reviews\n",
      "        </p>\n",
      "        <button>\n",
      "         Add to cart\n",
      "        </button>\n",
      "       </div>\n",
      "      </div>\n",
      "      <div class=\"book_container col-sm-4\">\n",
      "       <img alt=\"\" src=\"images/linux bible.jpg\" title=\"It includes information on cloud computing, with new guidance on containerization,\n",
      " Ansible automation, and Kubernetes and OpenShift. With a\n",
      " focus on RHEL 8\"/>\n",
      "       <p class=\"book_name\">\n",
      "        <a href=\"https://www.amazon.com/Linux-Bible-Christopher-Negus/dp/111821854X\" target=\"_blank\">\n",
      "         Linux bible  Book By Christopher Negus\n",
      "        </a>\n",
      "       </p>\n",
      "       <div class=\"align-left\">\n",
      "        <p class=\"price green\">\n",
      "         Rs.1800\n",
      "        </p>\n",
      "        <p class=\"stock not_stock\" data-stock=\"not in stock\">\n",
      "         <i aria-hidden=\"true\" class=\"fa fa-times\">\n",
      "         </i>\n",
      "         Not in stock\n",
      "        </p>\n",
      "        <div>\n",
      "         <span class=\"fa fa-star\">\n",
      "         </span>\n",
      "         <span class=\"fa fa-star not_filled\">\n",
      "         </span>\n",
      "         <span class=\"fa fa-star not_filled\">\n",
      "         </span>\n",
      "         <span class=\"fa fa-star not_filled\">\n",
      "         </span>\n",
      "         <span class=\"fa fa-star not_filled\">\n",
      "         </span>\n",
      "        </div>\n",
      "        <p class=\"review green\" data-rating=\"21\">\n",
      "         21 Reviews\n",
      "        </p>\n",
      "        <button>\n",
      "         Add to cart\n",
      "        </button>\n",
      "       </div>\n",
      "      </div>\n",
      "      <div class=\"book_container col-sm-4\">\n",
      "       <img alt=\"\" src=\"images/advanced programming in unix.jpg\" title=\"This book approaches the LINUX environment as a programming\n",
      " companion. No previous exposure to LINUX is necessary to utilize\n",
      " this text.\"/>\n",
      "       <p class=\"book_name\">\n",
      "        <a href=\"https://www.amazon.com/dp/0321637739?tag=uuid10-20\" target=\"_blank\">\n",
      "         Advanced Programming in the UNIX Environment  By W. Stevans\n",
      "        </a>\n",
      "       </p>\n",
      "       <div class=\"align-left\">\n",
      "        <p class=\"price green\">\n",
      "         Rs.6000\n",
      "        </p>\n",
      "        <p class=\"stock in_stock\" data-stock=\"in stock\">\n",
      "         <i aria-hidden=\"true\" class=\"fa fa-check\">\n",
      "         </i>\n",
      "         In stock\n",
      "        </p>\n",
      "        <div>\n",
      "         <span class=\"fa fa-star\">\n",
      "         </span>\n",
      "         <span class=\"fa fa-star not_filled\">\n",
      "         </span>\n",
      "         <span class=\"fa fa-star not_filled\">\n",
      "         </span>\n",
      "         <span class=\"fa fa-star not_filled\">\n",
      "         </span>\n",
      "         <span class=\"fa fa-star not_filled\">\n",
      "         </span>\n",
      "        </div>\n",
      "        <p class=\"review green\" data-rating=\"40\">\n",
      "         40 Reviews\n",
      "        </p>\n",
      "        <button>\n",
      "         Add to cart\n",
      "        </button>\n",
      "       </div>\n",
      "      </div>\n",
      "      <div class=\"book_container col-sm-4\">\n",
      "       <img alt=\"\" src=\"images/OS a design appraoch.png\" title=\"It covers computers' data representation, explains how computer architecture\n",
      " and its underlying meaning changed over the years, and examines\n",
      " the implementations and performance enhancements of the central processing unit (CPU).\"/>\n",
      "       <p class=\"book_name\">\n",
      "        <a href=\"https://www.amazon.com/s?k=Operating+Systems%3A+A+Design-oriented+Approach&amp;i=stripbooks-intl-ship&amp;ref=nb_sb_noss\" target=\"_blank\">\n",
      "         Operating Systems: A Design-oriented Approach By Charles Patrick Crowley\n",
      "        </a>\n",
      "       </p>\n",
      "       <div class=\"align-left\">\n",
      "        <p class=\"price green\">\n",
      "         Rs.1000\n",
      "        </p>\n",
      "        <p class=\"stock in_stock\" data-stock=\"in stock\">\n",
      "         <i aria-hidden=\"true\" class=\"fa fa-check\">\n",
      "         </i>\n",
      "         In stock\n",
      "        </p>\n",
      "        <div>\n",
      "         <span class=\"fa fa-star\">\n",
      "         </span>\n",
      "         <span class=\"fa fa-star\">\n",
      "         </span>\n",
      "         <span class=\"fa fa-star\">\n",
      "         </span>\n",
      "         <span class=\"fa fa-star not_filled\">\n",
      "         </span>\n",
      "         <span class=\"fa fa-star not_filled\">\n",
      "         </span>\n",
      "        </div>\n",
      "        <p class=\"review green\" data-rating=\"90\">\n",
      "         90 Reviews\n",
      "        </p>\n",
      "        <button>\n",
      "         Add to cart\n",
      "        </button>\n",
      "       </div>\n",
      "      </div>\n",
      "      <div class=\"book_container col-sm-4\">\n",
      "       <img alt=\"\" src=\"images/hands on network programming.jpg\" title=\"It includes information on cloud computing, with new guidance on containerization,\n",
      " Ansible automation, and Kubernetes and OpenShift. With a\n",
      " focus on RHEL 8\"/>\n",
      "       <p class=\"book_name\">\n",
      "        <a href=\"https://www.amazon.com/Hands-Network-Programming-programming-optimized/dp/1789349869/ref=sr_1_1?crid=11FC0M0GAFA21&amp;amp&amp;keywords=unix+network+programming+2019&amp;amp&amp;qid=1653381349&amp;amp&amp;s=books&amp;amp&amp;sprefix=unix+network+programming+2019%2Cstripbooks-intl-ship%2C356&amp;amp&amp;sr=1-1\" target=\"_blank\">\n",
      "         Hands-On Network Programming with C  By Lewis Van Winkle\n",
      "        </a>\n",
      "       </p>\n",
      "       <div class=\"align-left\">\n",
      "        <p class=\"price green\">\n",
      "         Rs.1800\n",
      "        </p>\n",
      "        <p class=\"stock in_stock\" data-stock=\"in stock\">\n",
      "         <i aria-hidden=\"true\" class=\"fa fa-check\">\n",
      "         </i>\n",
      "         In stock\n",
      "        </p>\n",
      "        <div>\n",
      "         <span class=\"fa fa-star\">\n",
      "         </span>\n",
      "         <span class=\"fa fa-star\">\n",
      "         </span>\n",
      "         <span class=\"fa fa-star\">\n",
      "         </span>\n",
      "         <span class=\"fa fa-star\">\n",
      "         </span>\n",
      "         <span class=\"fa fa-star not_filled\">\n",
      "         </span>\n",
      "        </div>\n",
      "        <p class=\"review green\" data-rating=\"70\">\n",
      "         70 Reviews\n",
      "        </p>\n",
      "        <button>\n",
      "         Add to cart\n",
      "        </button>\n",
      "       </div>\n",
      "      </div>\n",
      "     </div>\n",
      "    </div>\n",
      "    <script crossorigin=\"anonymous\" integrity=\"sha384-pprn3073KE6tl6bjs2QrFaJGz5/SUsLqktiwsUTF55Jfv3qYSDhgCecCxMW52nD2\" src=\"https://cdn.jsdelivr.net/npm/bootstrap@5.2.0-beta1/dist/js/bootstrap.bundle.min.js\">\n",
      "    </script>\n",
      "   </div>\n",
      "  </section>\n",
      " </body>\n",
      "</html>\n",
      "\n"
     ]
    }
   ],
   "source": [
    "# To get html code in proper format\n",
    "print(soup.prettify())"
   ]
  },
  {
   "cell_type": "markdown",
   "id": "f5f0f0ed",
   "metadata": {},
   "source": [
    "### Tag Objects"
   ]
  },
  {
   "cell_type": "code",
   "execution_count": 21,
   "id": "f171481a",
   "metadata": {},
   "outputs": [
    {
     "data": {
      "text/plain": [
       "<header class=\"header d-flex align-items-center justify-content-between\">\n",
       "<img alt=\"arif\" class=\"image-container\" src=\"./images//arif.jpg\"/>\n",
       "<p> <span class=\"large_text\">Books Scraping Site</span></p>\n",
       "<img alt=\"pucit\" class=\"image-container\" src=\"./images/pucit.jpg\"/>\n",
       "</header>"
      ]
     },
     "execution_count": 21,
     "metadata": {},
     "output_type": "execute_result"
    }
   ],
   "source": [
    "soup.header"
   ]
  },
  {
   "cell_type": "code",
   "execution_count": 22,
   "id": "0fe5cee4",
   "metadata": {
    "scrolled": true
   },
   "outputs": [
    {
     "data": {
      "text/plain": [
       "<p> <span class=\"large_text\">Books Scraping Site</span></p>"
      ]
     },
     "execution_count": 22,
     "metadata": {},
     "output_type": "execute_result"
    }
   ],
   "source": [
    "# First p tag in the html tag\n",
    "soup.p"
   ]
  },
  {
   "cell_type": "markdown",
   "id": "1feaae11",
   "metadata": {},
   "source": [
    "#### 1) Name Object"
   ]
  },
  {
   "cell_type": "code",
   "execution_count": 23,
   "id": "489c9ca4",
   "metadata": {},
   "outputs": [
    {
     "data": {
      "text/plain": [
       "'header'"
      ]
     },
     "execution_count": 23,
     "metadata": {},
     "output_type": "execute_result"
    }
   ],
   "source": [
    "soup.header.name"
   ]
  },
  {
   "cell_type": "code",
   "execution_count": 24,
   "id": "af736927",
   "metadata": {},
   "outputs": [
    {
     "data": {
      "text/plain": [
       "'img'"
      ]
     },
     "execution_count": 24,
     "metadata": {},
     "output_type": "execute_result"
    }
   ],
   "source": [
    "soup.img.name"
   ]
  },
  {
   "cell_type": "code",
   "execution_count": 25,
   "id": "2204160b",
   "metadata": {},
   "outputs": [
    {
     "data": {
      "text/plain": [
       "'p'"
      ]
     },
     "execution_count": 25,
     "metadata": {},
     "output_type": "execute_result"
    }
   ],
   "source": [
    "soup.p.name"
   ]
  },
  {
   "cell_type": "code",
   "execution_count": 26,
   "id": "640941af",
   "metadata": {},
   "outputs": [
    {
     "name": "stdout",
     "output_type": "stream",
     "text": [
      "<class 'str'>\n",
      "<class 'str'>\n"
     ]
    }
   ],
   "source": [
    "print(type(soup.header.name))\n",
    "print(type(soup.img.name))"
   ]
  },
  {
   "cell_type": "markdown",
   "id": "b9a78869",
   "metadata": {},
   "source": [
    "#### 2) Attribute Object"
   ]
  },
  {
   "cell_type": "code",
   "execution_count": 27,
   "id": "d31375c2",
   "metadata": {},
   "outputs": [
    {
     "data": {
      "text/plain": [
       "{}"
      ]
     },
     "execution_count": 27,
     "metadata": {},
     "output_type": "execute_result"
    }
   ],
   "source": [
    "soup.p.attrs"
   ]
  },
  {
   "cell_type": "code",
   "execution_count": 28,
   "id": "35252531",
   "metadata": {},
   "outputs": [
    {
     "data": {
      "text/plain": [
       "{'class': ['image-container'], 'src': './images//arif.jpg', 'alt': 'arif'}"
      ]
     },
     "execution_count": 28,
     "metadata": {},
     "output_type": "execute_result"
    }
   ],
   "source": [
    "soup.img.attrs"
   ]
  },
  {
   "cell_type": "markdown",
   "id": "a75e71f9",
   "metadata": {},
   "source": [
    "#### 3) Navigate String Object"
   ]
  },
  {
   "cell_type": "code",
   "execution_count": 29,
   "id": "7710a1d9",
   "metadata": {},
   "outputs": [
    {
     "data": {
      "text/plain": [
       "'BSS2'"
      ]
     },
     "execution_count": 29,
     "metadata": {},
     "output_type": "execute_result"
    }
   ],
   "source": [
    "soup.title.string"
   ]
  },
  {
   "cell_type": "markdown",
   "id": "34403d2b",
   "metadata": {},
   "source": [
    "### Navigation the Entire Tree of the Soup Object"
   ]
  },
  {
   "cell_type": "code",
   "execution_count": 31,
   "id": "69477457",
   "metadata": {},
   "outputs": [
    {
     "data": {
      "text/plain": [
       "<a href=\"index.html\">Operating System</a>"
      ]
     },
     "execution_count": 31,
     "metadata": {},
     "output_type": "execute_result"
    }
   ],
   "source": [
    "# First attribute object in the body \n",
    "soup.body.a"
   ]
  },
  {
   "cell_type": "code",
   "execution_count": 33,
   "id": "6b2d276d",
   "metadata": {},
   "outputs": [
    {
     "data": {
      "text/plain": [
       "<li class=\"link book_type\"><a href=\"index.html\">Operating System</a></li>"
      ]
     },
     "execution_count": 33,
     "metadata": {},
     "output_type": "execute_result"
    }
   ],
   "source": [
    "soup.body.a.parent"
   ]
  },
  {
   "cell_type": "code",
   "execution_count": 34,
   "id": "27cb09b6",
   "metadata": {},
   "outputs": [
    {
     "data": {
      "text/plain": [
       "<ul class=\"nav-links\">\n",
       "<div class=\"link text-center\" id=\"book_title\">Books Titles</div>\n",
       "<li class=\"link book_type\"><a href=\"index.html\">Operating System</a></li>\n",
       "<li class=\"link book_type\"><a href=\"SP.html\">System Programming</a></li>\n",
       "<li class=\"link book_type\"><a href=\"CA.html\">Computer Architecture</a></li>\n",
       "</ul>"
      ]
     },
     "execution_count": 34,
     "metadata": {},
     "output_type": "execute_result"
    }
   ],
   "source": [
    "soup.body.a.parent.parent"
   ]
  },
  {
   "cell_type": "code",
   "execution_count": 35,
   "id": "51bf40ea",
   "metadata": {},
   "outputs": [
    {
     "data": {
      "text/plain": [
       "<ul class=\"nav-links\">\n",
       "<div class=\"link text-center\" id=\"book_title\">Books Titles</div>\n",
       "<li class=\"link book_type\"><a href=\"index.html\">Operating System</a></li>\n",
       "<li class=\"link book_type\"><a href=\"SP.html\">System Programming</a></li>\n",
       "<li class=\"link book_type\"><a href=\"CA.html\">Computer Architecture</a></li>\n",
       "</ul>"
      ]
     },
     "execution_count": 35,
     "metadata": {},
     "output_type": "execute_result"
    }
   ],
   "source": [
    "soup.body.ul"
   ]
  },
  {
   "cell_type": "code",
   "execution_count": 36,
   "id": "2c8e7878",
   "metadata": {},
   "outputs": [
    {
     "data": {
      "text/plain": [
       "<list_iterator at 0x114e2aa3a90>"
      ]
     },
     "execution_count": 36,
     "metadata": {},
     "output_type": "execute_result"
    }
   ],
   "source": [
    "soup.body.ul.children"
   ]
  },
  {
   "cell_type": "code",
   "execution_count": 37,
   "id": "2f58c1cb",
   "metadata": {},
   "outputs": [
    {
     "name": "stdout",
     "output_type": "stream",
     "text": [
      "\n",
      "\n",
      "<div class=\"link text-center\" id=\"book_title\">Books Titles</div>\n",
      "\n",
      "\n",
      "<li class=\"link book_type\"><a href=\"index.html\">Operating System</a></li>\n",
      "\n",
      "\n",
      "<li class=\"link book_type\"><a href=\"SP.html\">System Programming</a></li>\n",
      "\n",
      "\n",
      "<li class=\"link book_type\"><a href=\"CA.html\">Computer Architecture</a></li>\n",
      "\n",
      "\n"
     ]
    }
   ],
   "source": [
    "for i in soup.body.ul.children:\n",
    "    print(i)"
   ]
  },
  {
   "cell_type": "markdown",
   "id": "1aa84db3",
   "metadata": {},
   "source": [
    "### Using the `soup.find()` Method\n",
    "- The `soup.find()` method returns the first tag that matches the first criteria:\n",
    ">- ***soup.find(name = None, attrs = {}, recursive = True, text = None, ** kwargs)***\n",
    "- where\n",
    ">- `name` is the tag name in the search\n",
    ">- `attrs = {}` a dictionary of filters on attribute vales\n",
    ">- `recursive = True` If this is true, `find()` will perform the recursive search of this PageElement's children. Otherwise, only the direct children will be considered.\n",
    ">- `test = None` st\n",
    ">- `limit`, stop looking after finding this many results"
   ]
  },
  {
   "cell_type": "markdown",
   "id": "81d75954",
   "metadata": {},
   "source": [
    "***The `find()` method can be called on the entire soup object or you can call `find()` method from a specific tag from within a soup object***"
   ]
  },
  {
   "cell_type": "code",
   "execution_count": 38,
   "id": "b7cddaa7",
   "metadata": {},
   "outputs": [
    {
     "data": {
      "text/plain": [
       "<div class=\"navbar\">\n",
       "<ul class=\"nav-links\">\n",
       "<div class=\"link text-center\" id=\"book_title\">Books Titles</div>\n",
       "<li class=\"link book_type\"><a href=\"index.html\">Operating System</a></li>\n",
       "<li class=\"link book_type\"><a href=\"SP.html\">System Programming</a></li>\n",
       "<li class=\"link book_type\"><a href=\"CA.html\">Computer Architecture</a></li>\n",
       "</ul>\n",
       "</div>"
      ]
     },
     "execution_count": 38,
     "metadata": {},
     "output_type": "execute_result"
    }
   ],
   "source": [
    "# To find a specific tag (div) where a specific attribute (class = navbar)\n",
    "soup.find('div', {'class':'navbar'})"
   ]
  },
  {
   "cell_type": "code",
   "execution_count": 40,
   "id": "53be52c1",
   "metadata": {
    "scrolled": true
   },
   "outputs": [
    {
     "data": {
      "text/plain": [
       "<div class=\"navbar\">\n",
       "<ul class=\"nav-links\">\n",
       "<div class=\"link text-center\" id=\"book_title\">Books Titles</div>\n",
       "<li class=\"link book_type\"><a href=\"index.html\">Operating System</a></li>\n",
       "<li class=\"link book_type\"><a href=\"SP.html\">System Programming</a></li>\n",
       "<li class=\"link book_type\"><a href=\"CA.html\">Computer Architecture</a></li>\n",
       "</ul>\n",
       "</div>"
      ]
     },
     "execution_count": 40,
     "metadata": {},
     "output_type": "execute_result"
    }
   ],
   "source": [
    "# This method can also be used\n",
    "soup.find('div', class_ = 'navbar')"
   ]
  },
  {
   "cell_type": "markdown",
   "id": "cf242d5a",
   "metadata": {},
   "source": [
    "### Using the `soup.find_all()` Method\n",
    "- The `soup.find_all()` method returns a list of all the tags or strings that matche a particular criteria:\n",
    ">- ***soup.find_all(name = None, attrs = {}, limit, string = None, recursive = True, text = None, ** kwargs)***\n",
    "- where\n",
    ">- `name` is the name of the tag to return\n",
    ">- `attrs = {}` a dictionary of filters on attribute vales\n",
    ">- `string = None` is used if you want to search a text string instead of tag name\n",
    ">- `recursive = True` If this is true, `find()` will perform the recursive search for all the descendents. OOtherwise, only the direct children will be considered\n",
    ">- `limit`, is the number of the elements to return. Defaults to all matching(`find()` method is similar to `find_all()` by passing the limit = 1\n",
    "- ***Note:*** The class attribute having space separated string means multiple classes, where an id attribute having space separated string means a single id whose name is having spaces in between"
   ]
  },
  {
   "cell_type": "code",
   "execution_count": 42,
   "id": "41f8644f",
   "metadata": {},
   "outputs": [
    {
     "data": {
      "text/plain": [
       "[<p class=\"price green\">Rs.2000</p>,\n",
       " <p class=\"price green\">Rs.5000</p>,\n",
       " <p class=\"price green\">Rs.6900</p>,\n",
       " <p class=\"price green\">Rs.2700</p>,\n",
       " <p class=\"price green\">Rs.1700</p>,\n",
       " <p class=\"price green\">Rs.1800</p>,\n",
       " <p class=\"price green\">Rs.6000</p>,\n",
       " <p class=\"price green\">Rs.1000</p>,\n",
       " <p class=\"price green\">Rs.1800</p>]"
      ]
     },
     "execution_count": 42,
     "metadata": {},
     "output_type": "execute_result"
    }
   ],
   "source": [
    "prices = soup.find_all('p', class_ = 'price green')\n",
    "prices"
   ]
  },
  {
   "cell_type": "code",
   "execution_count": 44,
   "id": "1cd2cda1",
   "metadata": {},
   "outputs": [
    {
     "name": "stdout",
     "output_type": "stream",
     "text": [
      "Rs.2000\n",
      "Rs.5000\n",
      "Rs.6900\n",
      "Rs.2700\n",
      "Rs.1700\n",
      "Rs.1800\n",
      "Rs.6000\n",
      "Rs.1000\n",
      "Rs.1800\n"
     ]
    }
   ],
   "source": [
    "# Since prices is a list, so we have to iterate using for loop\n",
    "for i in prices:\n",
    "    print(i.text)"
   ]
  },
  {
   "cell_type": "markdown",
   "id": "21cd1ec5",
   "metadata": {},
   "source": [
    "### Example # 01: Scraping Information from a Single Web Page"
   ]
  },
  {
   "cell_type": "code",
   "execution_count": 1,
   "id": "8db528d9",
   "metadata": {},
   "outputs": [],
   "source": [
    "import requests\n",
    "from bs4 import BeautifulSoup\n",
    "import lxml"
   ]
  },
  {
   "cell_type": "code",
   "execution_count": 2,
   "id": "8dc3977e",
   "metadata": {},
   "outputs": [],
   "source": [
    "responce = requests.get('https://arifpucit.github.io/bss2')"
   ]
  },
  {
   "cell_type": "code",
   "execution_count": 3,
   "id": "1d1b301d",
   "metadata": {},
   "outputs": [],
   "source": [
    "soup = BeautifulSoup(responce.text, 'lxml')"
   ]
  },
  {
   "cell_type": "markdown",
   "id": "3123b22b",
   "metadata": {},
   "source": [
    "#### 1) Extract Book Title and Author Name"
   ]
  },
  {
   "cell_type": "code",
   "execution_count": 4,
   "id": "0318c297",
   "metadata": {},
   "outputs": [
    {
     "data": {
      "text/plain": [
       "[<p class=\"book_name\"><a href=\"https://www.amazon.com/Operating-System-Concepts-Abridged-Companion/dp/1119456339\" target=\"_blank\">Operating System Concepts By Avi Silberschatz</a></p>,\n",
       " <p class=\"book_name\"><a href=\"https://www.google.com/search?q=Unix+the+textbook+by+mansoor&amp;rlz=1C1CHBD_enPK987PK987&amp;oq=unix+the+textbook+by+mansoor&amp;aqs=chrome.0.69i59j69i57j69i59j69i60l5.4419j0j7&amp;sourceid=chrome&amp;ie=UTF-8\" target=\"_blank\">UNIX The Textbook By Syed Mansoor Sarwar</a></p>,\n",
       " <p class=\"book_name\"><a href=\"https://www.amazon.in/Taxonomy-Ids-Arif-Butt/dp/3639294092\" target=\"_blank\">Taxonomy of IDS By Arif Butt</a></p>,\n",
       " <p class=\"book_name\"><a href=\"https://www.amazon.com/Understanding-Operating-Systems-Ann-McHoes/dp/1305674251\" target=\"_blank\">Understanding operating systems By Ida Flynn</a></p>,\n",
       " <p class=\"book_name\"><a href=\"https://www.goodreads.com/book/show/829182.Computer_Systems\" target=\"_blank\">Computer Systems  By Randal E. Bryant </a></p>,\n",
       " <p class=\"book_name\"><a href=\"https://www.amazon.com/Linux-Bible-Christopher-Negus/dp/111821854X\" target=\"_blank\">Linux bible  Book By Christopher Negus</a></p>,\n",
       " <p class=\"book_name\"><a href=\"https://www.amazon.com/dp/0321637739?tag=uuid10-20\" target=\"_blank\">Advanced Programming in the UNIX Environment  By W. Stevans</a></p>,\n",
       " <p class=\"book_name\"><a href=\"https://www.amazon.com/s?k=Operating+Systems%3A+A+Design-oriented+Approach&amp;i=stripbooks-intl-ship&amp;ref=nb_sb_noss\" target=\"_blank\">Operating Systems: A Design-oriented Approach By Charles Patrick Crowley</a></p>,\n",
       " <p class=\"book_name\"><a href=\"https://www.amazon.com/Hands-Network-Programming-programming-optimized/dp/1789349869/ref=sr_1_1?crid=11FC0M0GAFA21&amp;amp&amp;keywords=unix+network+programming+2019&amp;amp&amp;qid=1653381349&amp;amp&amp;s=books&amp;amp&amp;sprefix=unix+network+programming+2019%2Cstripbooks-intl-ship%2C356&amp;amp&amp;sr=1-1\" target=\"_blank\">Hands-On Network Programming with C  By Lewis Van Winkle</a></p>]"
      ]
     },
     "execution_count": 4,
     "metadata": {},
     "output_type": "execute_result"
    }
   ],
   "source": [
    "sp_titles = soup.find_all('p', class_ = 'book_name')\n",
    "sp_titles"
   ]
  },
  {
   "cell_type": "code",
   "execution_count": 5,
   "id": "0a22c26e",
   "metadata": {},
   "outputs": [
    {
     "name": "stdout",
     "output_type": "stream",
     "text": [
      "['Operating System Concepts By Avi Silberschatz', 'UNIX The Textbook By Syed Mansoor Sarwar', 'Taxonomy of IDS By Arif Butt', 'Understanding operating systems By Ida Flynn', 'Computer Systems  By Randal E. Bryant ', 'Linux bible  Book By Christopher Negus', 'Advanced Programming in the UNIX Environment  By W. Stevans', 'Operating Systems: A Design-oriented Approach By Charles Patrick Crowley', 'Hands-On Network Programming with C  By Lewis Van Winkle']\n"
     ]
    }
   ],
   "source": [
    "titles = []\n",
    "for i in sp_titles:\n",
    "    titles.append(i.text)\n",
    "print(titles)"
   ]
  },
  {
   "cell_type": "markdown",
   "id": "a3266fb4",
   "metadata": {},
   "source": [
    "#### 2) Extract Links of the Books"
   ]
  },
  {
   "cell_type": "code",
   "execution_count": 6,
   "id": "5ccee308",
   "metadata": {},
   "outputs": [
    {
     "data": {
      "text/plain": [
       "[<p class=\"book_name\"><a href=\"https://www.amazon.com/Operating-System-Concepts-Abridged-Companion/dp/1119456339\" target=\"_blank\">Operating System Concepts By Avi Silberschatz</a></p>,\n",
       " <p class=\"book_name\"><a href=\"https://www.google.com/search?q=Unix+the+textbook+by+mansoor&amp;rlz=1C1CHBD_enPK987PK987&amp;oq=unix+the+textbook+by+mansoor&amp;aqs=chrome.0.69i59j69i57j69i59j69i60l5.4419j0j7&amp;sourceid=chrome&amp;ie=UTF-8\" target=\"_blank\">UNIX The Textbook By Syed Mansoor Sarwar</a></p>,\n",
       " <p class=\"book_name\"><a href=\"https://www.amazon.in/Taxonomy-Ids-Arif-Butt/dp/3639294092\" target=\"_blank\">Taxonomy of IDS By Arif Butt</a></p>,\n",
       " <p class=\"book_name\"><a href=\"https://www.amazon.com/Understanding-Operating-Systems-Ann-McHoes/dp/1305674251\" target=\"_blank\">Understanding operating systems By Ida Flynn</a></p>,\n",
       " <p class=\"book_name\"><a href=\"https://www.goodreads.com/book/show/829182.Computer_Systems\" target=\"_blank\">Computer Systems  By Randal E. Bryant </a></p>,\n",
       " <p class=\"book_name\"><a href=\"https://www.amazon.com/Linux-Bible-Christopher-Negus/dp/111821854X\" target=\"_blank\">Linux bible  Book By Christopher Negus</a></p>,\n",
       " <p class=\"book_name\"><a href=\"https://www.amazon.com/dp/0321637739?tag=uuid10-20\" target=\"_blank\">Advanced Programming in the UNIX Environment  By W. Stevans</a></p>,\n",
       " <p class=\"book_name\"><a href=\"https://www.amazon.com/s?k=Operating+Systems%3A+A+Design-oriented+Approach&amp;i=stripbooks-intl-ship&amp;ref=nb_sb_noss\" target=\"_blank\">Operating Systems: A Design-oriented Approach By Charles Patrick Crowley</a></p>,\n",
       " <p class=\"book_name\"><a href=\"https://www.amazon.com/Hands-Network-Programming-programming-optimized/dp/1789349869/ref=sr_1_1?crid=11FC0M0GAFA21&amp;amp&amp;keywords=unix+network+programming+2019&amp;amp&amp;qid=1653381349&amp;amp&amp;s=books&amp;amp&amp;sprefix=unix+network+programming+2019%2Cstripbooks-intl-ship%2C356&amp;amp&amp;sr=1-1\" target=\"_blank\">Hands-On Network Programming with C  By Lewis Van Winkle</a></p>]"
      ]
     },
     "execution_count": 6,
     "metadata": {},
     "output_type": "execute_result"
    }
   ],
   "source": [
    "sp_links = soup.find_all('p', class_='book_name')\n",
    "sp_links"
   ]
  },
  {
   "cell_type": "code",
   "execution_count": 7,
   "id": "1891f820",
   "metadata": {},
   "outputs": [
    {
     "name": "stdout",
     "output_type": "stream",
     "text": [
      "<a href=\"https://www.amazon.com/Operating-System-Concepts-Abridged-Companion/dp/1119456339\" target=\"_blank\">Operating System Concepts By Avi Silberschatz</a>\n",
      "<a href=\"https://www.google.com/search?q=Unix+the+textbook+by+mansoor&amp;rlz=1C1CHBD_enPK987PK987&amp;oq=unix+the+textbook+by+mansoor&amp;aqs=chrome.0.69i59j69i57j69i59j69i60l5.4419j0j7&amp;sourceid=chrome&amp;ie=UTF-8\" target=\"_blank\">UNIX The Textbook By Syed Mansoor Sarwar</a>\n",
      "<a href=\"https://www.amazon.in/Taxonomy-Ids-Arif-Butt/dp/3639294092\" target=\"_blank\">Taxonomy of IDS By Arif Butt</a>\n",
      "<a href=\"https://www.amazon.com/Understanding-Operating-Systems-Ann-McHoes/dp/1305674251\" target=\"_blank\">Understanding operating systems By Ida Flynn</a>\n",
      "<a href=\"https://www.goodreads.com/book/show/829182.Computer_Systems\" target=\"_blank\">Computer Systems  By Randal E. Bryant </a>\n",
      "<a href=\"https://www.amazon.com/Linux-Bible-Christopher-Negus/dp/111821854X\" target=\"_blank\">Linux bible  Book By Christopher Negus</a>\n",
      "<a href=\"https://www.amazon.com/dp/0321637739?tag=uuid10-20\" target=\"_blank\">Advanced Programming in the UNIX Environment  By W. Stevans</a>\n",
      "<a href=\"https://www.amazon.com/s?k=Operating+Systems%3A+A+Design-oriented+Approach&amp;i=stripbooks-intl-ship&amp;ref=nb_sb_noss\" target=\"_blank\">Operating Systems: A Design-oriented Approach By Charles Patrick Crowley</a>\n",
      "<a href=\"https://www.amazon.com/Hands-Network-Programming-programming-optimized/dp/1789349869/ref=sr_1_1?crid=11FC0M0GAFA21&amp;amp&amp;keywords=unix+network+programming+2019&amp;amp&amp;qid=1653381349&amp;amp&amp;s=books&amp;amp&amp;sprefix=unix+network+programming+2019%2Cstripbooks-intl-ship%2C356&amp;amp&amp;sr=1-1\" target=\"_blank\">Hands-On Network Programming with C  By Lewis Van Winkle</a>\n"
     ]
    }
   ],
   "source": [
    "for i in sp_links:\n",
    "    print(i.find('a'))"
   ]
  },
  {
   "cell_type": "code",
   "execution_count": 8,
   "id": "40b85f11",
   "metadata": {},
   "outputs": [
    {
     "data": {
      "text/plain": [
       "['https://www.amazon.com/Operating-System-Concepts-Abridged-Companion/dp/1119456339',\n",
       " 'https://www.google.com/search?q=Unix+the+textbook+by+mansoor&rlz=1C1CHBD_enPK987PK987&oq=unix+the+textbook+by+mansoor&aqs=chrome.0.69i59j69i57j69i59j69i60l5.4419j0j7&sourceid=chrome&ie=UTF-8',\n",
       " 'https://www.amazon.in/Taxonomy-Ids-Arif-Butt/dp/3639294092',\n",
       " 'https://www.amazon.com/Understanding-Operating-Systems-Ann-McHoes/dp/1305674251',\n",
       " 'https://www.goodreads.com/book/show/829182.Computer_Systems',\n",
       " 'https://www.amazon.com/Linux-Bible-Christopher-Negus/dp/111821854X',\n",
       " 'https://www.amazon.com/dp/0321637739?tag=uuid10-20',\n",
       " 'https://www.amazon.com/s?k=Operating+Systems%3A+A+Design-oriented+Approach&i=stripbooks-intl-ship&ref=nb_sb_noss',\n",
       " 'https://www.amazon.com/Hands-Network-Programming-programming-optimized/dp/1789349869/ref=sr_1_1?crid=11FC0M0GAFA21&amp&keywords=unix+network+programming+2019&amp&qid=1653381349&amp&s=books&amp&sprefix=unix+network+programming+2019%2Cstripbooks-intl-ship%2C356&amp&sr=1-1']"
      ]
     },
     "execution_count": 8,
     "metadata": {},
     "output_type": "execute_result"
    }
   ],
   "source": [
    "links = []\n",
    "for i in sp_links:\n",
    "    links.append(i.find('a').get('href'))\n",
    "links"
   ]
  },
  {
   "cell_type": "markdown",
   "id": "0ff749f7",
   "metadata": {},
   "source": [
    "#### 3) Extract Prices"
   ]
  },
  {
   "cell_type": "code",
   "execution_count": 10,
   "id": "d90a86b5",
   "metadata": {},
   "outputs": [
    {
     "data": {
      "text/plain": [
       "[<p class=\"price green\">Rs.2000</p>,\n",
       " <p class=\"price green\">Rs.5000</p>,\n",
       " <p class=\"price green\">Rs.6900</p>,\n",
       " <p class=\"price green\">Rs.2700</p>,\n",
       " <p class=\"price green\">Rs.1700</p>,\n",
       " <p class=\"price green\">Rs.1800</p>,\n",
       " <p class=\"price green\">Rs.6000</p>,\n",
       " <p class=\"price green\">Rs.1000</p>,\n",
       " <p class=\"price green\">Rs.1800</p>]"
      ]
     },
     "execution_count": 10,
     "metadata": {},
     "output_type": "execute_result"
    }
   ],
   "source": [
    "sp_prices = soup.find_all('p', class_ = 'price green')\n",
    "sp_prices"
   ]
  },
  {
   "cell_type": "code",
   "execution_count": 11,
   "id": "365fac52",
   "metadata": {},
   "outputs": [
    {
     "data": {
      "text/plain": [
       "['Rs.2000',\n",
       " 'Rs.5000',\n",
       " 'Rs.6900',\n",
       " 'Rs.2700',\n",
       " 'Rs.1700',\n",
       " 'Rs.1800',\n",
       " 'Rs.6000',\n",
       " 'Rs.1000',\n",
       " 'Rs.1800']"
      ]
     },
     "execution_count": 11,
     "metadata": {},
     "output_type": "execute_result"
    }
   ],
   "source": [
    "prices = []\n",
    "for i in sp_prices:\n",
    "    prices.append(i.text)\n",
    "prices"
   ]
  },
  {
   "cell_type": "markdown",
   "id": "5128591d",
   "metadata": {},
   "source": [
    "#### 4) Extract Availability of Books"
   ]
  },
  {
   "cell_type": "code",
   "execution_count": 12,
   "id": "0383bc05",
   "metadata": {},
   "outputs": [
    {
     "data": {
      "text/plain": [
       "[<p class=\"stock in_stock\" data-stock=\"in stock\"><i aria-hidden=\"true\" class=\"fa fa-check\"></i> In stock</p>,\n",
       " <p class=\"stock in_stock\" data-stock=\"in stock\"><i aria-hidden=\"true\" class=\"fa fa-check\"></i> In stock</p>,\n",
       " <p class=\"stock not_stock\" data-stock=\"not in stock\"><i aria-hidden=\"true\" class=\"fa fa-times\"></i> Not in stock</p>,\n",
       " <p class=\"stock not_stock\" data-stock=\"not in stock\"><i aria-hidden=\"true\" class=\"fa fa-times\"></i> Not in stock</p>,\n",
       " <p class=\"stock in_stock\" data-stock=\"in stock\"><i aria-hidden=\"true\" class=\"fa fa-check\"></i> In stock</p>,\n",
       " <p class=\"stock not_stock\" data-stock=\"not in stock\"><i aria-hidden=\"true\" class=\"fa fa-times\"></i> Not in stock</p>,\n",
       " <p class=\"stock in_stock\" data-stock=\"in stock\"><i aria-hidden=\"true\" class=\"fa fa-check\"></i> In stock</p>,\n",
       " <p class=\"stock in_stock\" data-stock=\"in stock\"><i aria-hidden=\"true\" class=\"fa fa-check\"></i> In stock</p>,\n",
       " <p class=\"stock in_stock\" data-stock=\"in stock\"><i aria-hidden=\"true\" class=\"fa fa-check\"></i> In stock</p>]"
      ]
     },
     "execution_count": 12,
     "metadata": {},
     "output_type": "execute_result"
    }
   ],
   "source": [
    "sp_availability = soup.find_all('p', class_ = 'stock')\n",
    "sp_availability"
   ]
  },
  {
   "cell_type": "code",
   "execution_count": 13,
   "id": "5c5c5fa3",
   "metadata": {},
   "outputs": [
    {
     "data": {
      "text/plain": [
       "[' In stock',\n",
       " ' In stock',\n",
       " ' Not in stock',\n",
       " ' Not in stock',\n",
       " ' In stock',\n",
       " ' Not in stock',\n",
       " ' In stock',\n",
       " ' In stock',\n",
       " ' In stock']"
      ]
     },
     "execution_count": 13,
     "metadata": {},
     "output_type": "execute_result"
    }
   ],
   "source": [
    "availability = []\n",
    "for i in sp_availability:\n",
    "    availability.append(i.text)\n",
    "availability"
   ]
  },
  {
   "cell_type": "markdown",
   "id": "9ebda78a",
   "metadata": {},
   "source": [
    "#### 5) Extract Count of Reviews"
   ]
  },
  {
   "cell_type": "code",
   "execution_count": 14,
   "id": "e0b99401",
   "metadata": {
    "scrolled": true
   },
   "outputs": [
    {
     "data": {
      "text/plain": [
       "[<p class=\"review green\" data-rating=\"20\">20 Reviews</p>,\n",
       " <p class=\"review green\" data-rating=\"100\">100 Reviews</p>,\n",
       " <p class=\"review green\" data-rating=\"20\">20 Reviews</p>,\n",
       " <p class=\"review green\" data-rating=\"60\">60 Reviews</p>,\n",
       " <p class=\"review green\" data-rating=\"25\">25 Reviews</p>,\n",
       " <p class=\"review green\" data-rating=\"21\">21 Reviews</p>,\n",
       " <p class=\"review green\" data-rating=\"40\">40 Reviews</p>,\n",
       " <p class=\"review green\" data-rating=\"90\">90 Reviews</p>,\n",
       " <p class=\"review green\" data-rating=\"70\">70 Reviews</p>]"
      ]
     },
     "execution_count": 14,
     "metadata": {},
     "output_type": "execute_result"
    }
   ],
   "source": [
    "sp_reviews = soup.find_all('p', class_ = 'review')\n",
    "sp_reviews"
   ]
  },
  {
   "cell_type": "code",
   "execution_count": 15,
   "id": "1b3ff249",
   "metadata": {},
   "outputs": [
    {
     "name": "stdout",
     "output_type": "stream",
     "text": [
      "['20', '100', '20', '60', '25', '21', '40', '90', '70']\n"
     ]
    }
   ],
   "source": [
    "reviews = []\n",
    "for i in sp_reviews:\n",
    "    reviews.append(i.get('data-rating'))\n",
    "print(reviews)"
   ]
  },
  {
   "cell_type": "markdown",
   "id": "a4a0685b",
   "metadata": {},
   "source": [
    "#### 6) Extract Star Ratings"
   ]
  },
  {
   "cell_type": "code",
   "execution_count": 19,
   "id": "5370e99b",
   "metadata": {},
   "outputs": [
    {
     "name": "stdout",
     "output_type": "stream",
     "text": [
      "<div class=\"book_container col-sm-4\">\n",
      " <img alt=\"\" src=\"images/OS concepts.jpg\" title=\"The Linux Programming Interface (TLPI) is the definitive guide \n",
      " to the Linux and UNIX programming interface—the interface\n",
      " employed by nearly every application that runs on a \n",
      "Linux or UNIX system.\"/>\n",
      " <p class=\"book_name\">\n",
      "  <a href=\"https://www.amazon.com/Operating-System-Concepts-Abridged-Companion/dp/1119456339\" target=\"_blank\">\n",
      "   Operating System Concepts By Avi Silberschatz\n",
      "  </a>\n",
      " </p>\n",
      " <div class=\"align-left\">\n",
      "  <p class=\"price green\">\n",
      "   Rs.2000\n",
      "  </p>\n",
      "  <p class=\"stock in_stock\" data-stock=\"in stock\">\n",
      "   <i aria-hidden=\"true\" class=\"fa fa-check\">\n",
      "   </i>\n",
      "   In stock\n",
      "  </p>\n",
      "  <div>\n",
      "   <span class=\"fa fa-star\">\n",
      "   </span>\n",
      "   <span class=\"fa fa-star\">\n",
      "   </span>\n",
      "   <span class=\"fa fa-star\">\n",
      "   </span>\n",
      "   <span class=\"fa fa-star not_filled\">\n",
      "   </span>\n",
      "   <span class=\"fa fa-star not_filled\">\n",
      "   </span>\n",
      "  </div>\n",
      "  <p class=\"review green\" data-rating=\"20\">\n",
      "   20 Reviews\n",
      "  </p>\n",
      "  <button>\n",
      "   Add to cart\n",
      "  </button>\n",
      " </div>\n",
      "</div>\n",
      "\n"
     ]
    }
   ],
   "source": [
    "book = soup.find('div', class_ = 'book_container')\n",
    "print(book.prettify())"
   ]
  },
  {
   "cell_type": "code",
   "execution_count": 20,
   "id": "5b84343e",
   "metadata": {},
   "outputs": [
    {
     "name": "stdout",
     "output_type": "stream",
     "text": [
      "[3, 5, 4, 2, 2, 1, 1, 3, 4]\n"
     ]
    }
   ],
   "source": [
    "stars = list()\n",
    "books = soup.find_all('div',{'class','book_container'})\n",
    "for book in books:\n",
    "    stars.append(5 - len(book.find_all('span',{'class','not_filled'})))\n",
    "print(stars) "
   ]
  },
  {
   "cell_type": "markdown",
   "id": "ece30d9c",
   "metadata": {},
   "source": [
    "#### Display Output on Screen"
   ]
  },
  {
   "cell_type": "code",
   "execution_count": 21,
   "id": "96d33ce9",
   "metadata": {},
   "outputs": [
    {
     "name": "stdout",
     "output_type": "stream",
     "text": [
      "      Link:  https://www.amazon.com/Operating-System-Concepts-Abridged-Companion/dp/1119456339\n",
      "      Price:  Rs.2000\n",
      "      Stock:   In stock\n",
      "      Reviews:  20\n",
      "      Stars:  3\n",
      "      Link:  https://www.google.com/search?q=Unix+the+textbook+by+mansoor&rlz=1C1CHBD_enPK987PK987&oq=unix+the+textbook+by+mansoor&aqs=chrome.0.69i59j69i57j69i59j69i60l5.4419j0j7&sourceid=chrome&ie=UTF-8\n",
      "      Price:  Rs.5000\n",
      "      Stock:   In stock\n",
      "      Reviews:  100\n",
      "      Stars:  5\n",
      "      Link:  https://www.amazon.in/Taxonomy-Ids-Arif-Butt/dp/3639294092\n",
      "      Price:  Rs.6900\n",
      "      Stock:   Not in stock\n",
      "      Reviews:  20\n",
      "      Stars:  4\n",
      "      Link:  https://www.amazon.com/Understanding-Operating-Systems-Ann-McHoes/dp/1305674251\n",
      "      Price:  Rs.2700\n",
      "      Stock:   Not in stock\n",
      "      Reviews:  60\n",
      "      Stars:  2\n",
      "      Link:  https://www.goodreads.com/book/show/829182.Computer_Systems\n",
      "      Price:  Rs.1700\n",
      "      Stock:   In stock\n",
      "      Reviews:  25\n",
      "      Stars:  2\n",
      "      Link:  https://www.amazon.com/Linux-Bible-Christopher-Negus/dp/111821854X\n",
      "      Price:  Rs.1800\n",
      "      Stock:   Not in stock\n",
      "      Reviews:  21\n",
      "      Stars:  1\n",
      "      Link:  https://www.amazon.com/dp/0321637739?tag=uuid10-20\n",
      "      Price:  Rs.6000\n",
      "      Stock:   In stock\n",
      "      Reviews:  40\n",
      "      Stars:  1\n",
      "      Link:  https://www.amazon.com/s?k=Operating+Systems%3A+A+Design-oriented+Approach&i=stripbooks-intl-ship&ref=nb_sb_noss\n",
      "      Price:  Rs.1000\n",
      "      Stock:   In stock\n",
      "      Reviews:  90\n",
      "      Stars:  3\n",
      "      Link:  https://www.amazon.com/Hands-Network-Programming-programming-optimized/dp/1789349869/ref=sr_1_1?crid=11FC0M0GAFA21&amp&keywords=unix+network+programming+2019&amp&qid=1653381349&amp&s=books&amp&sprefix=unix+network+programming+2019%2Cstripbooks-intl-ship%2C356&amp&sr=1-1\n",
      "      Price:  Rs.1800\n",
      "      Stock:   In stock\n",
      "      Reviews:  70\n",
      "      Stars:  4\n"
     ]
    }
   ],
   "source": [
    "for i in range(9):\n",
    "    print(\"      Link: \",links[i])\n",
    "    print(\"      Price: \",prices[i])\n",
    "    print(\"      Stock: \",availability[i])\n",
    "    print(\"      Reviews: \",reviews[i])\n",
    "    print(\"      Stars: \",stars[i])"
   ]
  },
  {
   "cell_type": "markdown",
   "id": "808e30f4",
   "metadata": {},
   "source": [
    "#### Saving data in the CSV File"
   ]
  },
  {
   "cell_type": "code",
   "execution_count": 22,
   "id": "98b8e5a8",
   "metadata": {},
   "outputs": [
    {
     "data": {
      "text/html": [
       "<div>\n",
       "<style scoped>\n",
       "    .dataframe tbody tr th:only-of-type {\n",
       "        vertical-align: middle;\n",
       "    }\n",
       "\n",
       "    .dataframe tbody tr th {\n",
       "        vertical-align: top;\n",
       "    }\n",
       "\n",
       "    .dataframe thead th {\n",
       "        text-align: right;\n",
       "    }\n",
       "</style>\n",
       "<table border=\"1\" class=\"dataframe\">\n",
       "  <thead>\n",
       "    <tr style=\"text-align: right;\">\n",
       "      <th></th>\n",
       "      <th>Title/Author</th>\n",
       "      <th>Price</th>\n",
       "      <th>Availability</th>\n",
       "      <th>Reviews</th>\n",
       "      <th>Links</th>\n",
       "      <th>Stars</th>\n",
       "    </tr>\n",
       "  </thead>\n",
       "  <tbody>\n",
       "    <tr>\n",
       "      <th>0</th>\n",
       "      <td>Operating System Concepts By Avi Silberschatz</td>\n",
       "      <td>Rs.2000</td>\n",
       "      <td>In stock</td>\n",
       "      <td>20</td>\n",
       "      <td>https://www.amazon.com/Operating-System-Concep...</td>\n",
       "      <td>3</td>\n",
       "    </tr>\n",
       "    <tr>\n",
       "      <th>1</th>\n",
       "      <td>UNIX The Textbook By Syed Mansoor Sarwar</td>\n",
       "      <td>Rs.5000</td>\n",
       "      <td>In stock</td>\n",
       "      <td>100</td>\n",
       "      <td>https://www.google.com/search?q=Unix+the+textb...</td>\n",
       "      <td>5</td>\n",
       "    </tr>\n",
       "    <tr>\n",
       "      <th>2</th>\n",
       "      <td>Taxonomy of IDS By Arif Butt</td>\n",
       "      <td>Rs.6900</td>\n",
       "      <td>Not in stock</td>\n",
       "      <td>20</td>\n",
       "      <td>https://www.amazon.in/Taxonomy-Ids-Arif-Butt/d...</td>\n",
       "      <td>4</td>\n",
       "    </tr>\n",
       "    <tr>\n",
       "      <th>3</th>\n",
       "      <td>Understanding operating systems By Ida Flynn</td>\n",
       "      <td>Rs.2700</td>\n",
       "      <td>Not in stock</td>\n",
       "      <td>60</td>\n",
       "      <td>https://www.amazon.com/Understanding-Operating...</td>\n",
       "      <td>2</td>\n",
       "    </tr>\n",
       "    <tr>\n",
       "      <th>4</th>\n",
       "      <td>Computer Systems  By Randal E. Bryant</td>\n",
       "      <td>Rs.1700</td>\n",
       "      <td>In stock</td>\n",
       "      <td>25</td>\n",
       "      <td>https://www.goodreads.com/book/show/829182.Com...</td>\n",
       "      <td>2</td>\n",
       "    </tr>\n",
       "    <tr>\n",
       "      <th>5</th>\n",
       "      <td>Linux bible  Book By Christopher Negus</td>\n",
       "      <td>Rs.1800</td>\n",
       "      <td>Not in stock</td>\n",
       "      <td>21</td>\n",
       "      <td>https://www.amazon.com/Linux-Bible-Christopher...</td>\n",
       "      <td>1</td>\n",
       "    </tr>\n",
       "    <tr>\n",
       "      <th>6</th>\n",
       "      <td>Advanced Programming in the UNIX Environment  ...</td>\n",
       "      <td>Rs.6000</td>\n",
       "      <td>In stock</td>\n",
       "      <td>40</td>\n",
       "      <td>https://www.amazon.com/dp/0321637739?tag=uuid1...</td>\n",
       "      <td>1</td>\n",
       "    </tr>\n",
       "    <tr>\n",
       "      <th>7</th>\n",
       "      <td>Operating Systems: A Design-oriented Approach ...</td>\n",
       "      <td>Rs.1000</td>\n",
       "      <td>In stock</td>\n",
       "      <td>90</td>\n",
       "      <td>https://www.amazon.com/s?k=Operating+Systems%3...</td>\n",
       "      <td>3</td>\n",
       "    </tr>\n",
       "    <tr>\n",
       "      <th>8</th>\n",
       "      <td>Hands-On Network Programming with C  By Lewis ...</td>\n",
       "      <td>Rs.1800</td>\n",
       "      <td>In stock</td>\n",
       "      <td>70</td>\n",
       "      <td>https://www.amazon.com/Hands-Network-Programmi...</td>\n",
       "      <td>4</td>\n",
       "    </tr>\n",
       "  </tbody>\n",
       "</table>\n",
       "</div>"
      ],
      "text/plain": [
       "                                        Title/Author    Price   Availability  \\\n",
       "0      Operating System Concepts By Avi Silberschatz  Rs.2000       In stock   \n",
       "1           UNIX The Textbook By Syed Mansoor Sarwar  Rs.5000       In stock   \n",
       "2                       Taxonomy of IDS By Arif Butt  Rs.6900   Not in stock   \n",
       "3       Understanding operating systems By Ida Flynn  Rs.2700   Not in stock   \n",
       "4             Computer Systems  By Randal E. Bryant   Rs.1700       In stock   \n",
       "5             Linux bible  Book By Christopher Negus  Rs.1800   Not in stock   \n",
       "6  Advanced Programming in the UNIX Environment  ...  Rs.6000       In stock   \n",
       "7  Operating Systems: A Design-oriented Approach ...  Rs.1000       In stock   \n",
       "8  Hands-On Network Programming with C  By Lewis ...  Rs.1800       In stock   \n",
       "\n",
       "   Reviews                                              Links  Stars  \n",
       "0       20  https://www.amazon.com/Operating-System-Concep...      3  \n",
       "1      100  https://www.google.com/search?q=Unix+the+textb...      5  \n",
       "2       20  https://www.amazon.in/Taxonomy-Ids-Arif-Butt/d...      4  \n",
       "3       60  https://www.amazon.com/Understanding-Operating...      2  \n",
       "4       25  https://www.goodreads.com/book/show/829182.Com...      2  \n",
       "5       21  https://www.amazon.com/Linux-Bible-Christopher...      1  \n",
       "6       40  https://www.amazon.com/dp/0321637739?tag=uuid1...      1  \n",
       "7       90  https://www.amazon.com/s?k=Operating+Systems%3...      3  \n",
       "8       70  https://www.amazon.com/Hands-Network-Programmi...      4  "
      ]
     },
     "execution_count": 22,
     "metadata": {},
     "output_type": "execute_result"
    }
   ],
   "source": [
    "import pandas as pd\n",
    "data = {'Title/Author':titles, \"Price\":prices, 'Availability':availability, 'Reviews':reviews, 'Links': links, 'Stars':stars}\n",
    "df = pd.DataFrame(data, columns = ['Title/Author', 'Price', 'Availability', 'Reviews', 'Links', 'Stars'])\n",
    "df.to_csv('books.csv', index = False)\n",
    "df = pd.read_csv('books.csv')\n",
    "df"
   ]
  },
  {
   "cell_type": "markdown",
   "id": "2b9ce988",
   "metadata": {},
   "source": [
    "### Consolidating in a Single Script"
   ]
  },
  {
   "cell_type": "code",
   "execution_count": 23,
   "id": "7bd4e192",
   "metadata": {},
   "outputs": [
    {
     "data": {
      "text/html": [
       "<div>\n",
       "<style scoped>\n",
       "    .dataframe tbody tr th:only-of-type {\n",
       "        vertical-align: middle;\n",
       "    }\n",
       "\n",
       "    .dataframe tbody tr th {\n",
       "        vertical-align: top;\n",
       "    }\n",
       "\n",
       "    .dataframe thead th {\n",
       "        text-align: right;\n",
       "    }\n",
       "</style>\n",
       "<table border=\"1\" class=\"dataframe\">\n",
       "  <thead>\n",
       "    <tr style=\"text-align: right;\">\n",
       "      <th></th>\n",
       "      <th>Title/Author</th>\n",
       "      <th>Price</th>\n",
       "      <th>Availability</th>\n",
       "      <th>Reviews</th>\n",
       "      <th>Links</th>\n",
       "      <th>Stars</th>\n",
       "    </tr>\n",
       "  </thead>\n",
       "  <tbody>\n",
       "    <tr>\n",
       "      <th>0</th>\n",
       "      <td>Operating System Concepts By Avi Silberschatz</td>\n",
       "      <td>Rs.2000</td>\n",
       "      <td>In stock</td>\n",
       "      <td>20 Reviews</td>\n",
       "      <td>https://www.amazon.com/Operating-System-Concep...</td>\n",
       "      <td>3</td>\n",
       "    </tr>\n",
       "    <tr>\n",
       "      <th>1</th>\n",
       "      <td>UNIX The Textbook By Syed Mansoor Sarwar</td>\n",
       "      <td>Rs.5000</td>\n",
       "      <td>In stock</td>\n",
       "      <td>100 Reviews</td>\n",
       "      <td>https://www.google.com/search?q=Unix+the+textb...</td>\n",
       "      <td>5</td>\n",
       "    </tr>\n",
       "    <tr>\n",
       "      <th>2</th>\n",
       "      <td>Taxonomy of IDS By Arif Butt</td>\n",
       "      <td>Rs.6900</td>\n",
       "      <td>Not in stock</td>\n",
       "      <td>20 Reviews</td>\n",
       "      <td>https://www.amazon.in/Taxonomy-Ids-Arif-Butt/d...</td>\n",
       "      <td>4</td>\n",
       "    </tr>\n",
       "    <tr>\n",
       "      <th>3</th>\n",
       "      <td>Understanding operating systems By Ida Flynn</td>\n",
       "      <td>Rs.2700</td>\n",
       "      <td>Not in stock</td>\n",
       "      <td>60 Reviews</td>\n",
       "      <td>https://www.amazon.com/Understanding-Operating...</td>\n",
       "      <td>2</td>\n",
       "    </tr>\n",
       "    <tr>\n",
       "      <th>4</th>\n",
       "      <td>Computer Systems  By Randal E. Bryant</td>\n",
       "      <td>Rs.1700</td>\n",
       "      <td>In stock</td>\n",
       "      <td>25 Reviews</td>\n",
       "      <td>https://www.goodreads.com/book/show/829182.Com...</td>\n",
       "      <td>2</td>\n",
       "    </tr>\n",
       "    <tr>\n",
       "      <th>5</th>\n",
       "      <td>Linux bible  Book By Christopher Negus</td>\n",
       "      <td>Rs.1800</td>\n",
       "      <td>Not in stock</td>\n",
       "      <td>21 Reviews</td>\n",
       "      <td>https://www.amazon.com/Linux-Bible-Christopher...</td>\n",
       "      <td>1</td>\n",
       "    </tr>\n",
       "    <tr>\n",
       "      <th>6</th>\n",
       "      <td>Advanced Programming in the UNIX Environment  ...</td>\n",
       "      <td>Rs.6000</td>\n",
       "      <td>In stock</td>\n",
       "      <td>40 Reviews</td>\n",
       "      <td>https://www.amazon.com/dp/0321637739?tag=uuid1...</td>\n",
       "      <td>1</td>\n",
       "    </tr>\n",
       "    <tr>\n",
       "      <th>7</th>\n",
       "      <td>Operating Systems: A Design-oriented Approach ...</td>\n",
       "      <td>Rs.1000</td>\n",
       "      <td>In stock</td>\n",
       "      <td>90 Reviews</td>\n",
       "      <td>https://www.amazon.com/s?k=Operating+Systems%3...</td>\n",
       "      <td>3</td>\n",
       "    </tr>\n",
       "    <tr>\n",
       "      <th>8</th>\n",
       "      <td>Hands-On Network Programming with C  By Lewis ...</td>\n",
       "      <td>Rs.1800</td>\n",
       "      <td>In stock</td>\n",
       "      <td>70 Reviews</td>\n",
       "      <td>https://www.amazon.com/Hands-Network-Programmi...</td>\n",
       "      <td>4</td>\n",
       "    </tr>\n",
       "  </tbody>\n",
       "</table>\n",
       "</div>"
      ],
      "text/plain": [
       "                                        Title/Author    Price   Availability  \\\n",
       "0      Operating System Concepts By Avi Silberschatz  Rs.2000       In stock   \n",
       "1           UNIX The Textbook By Syed Mansoor Sarwar  Rs.5000       In stock   \n",
       "2                       Taxonomy of IDS By Arif Butt  Rs.6900   Not in stock   \n",
       "3       Understanding operating systems By Ida Flynn  Rs.2700   Not in stock   \n",
       "4             Computer Systems  By Randal E. Bryant   Rs.1700       In stock   \n",
       "5             Linux bible  Book By Christopher Negus  Rs.1800   Not in stock   \n",
       "6  Advanced Programming in the UNIX Environment  ...  Rs.6000       In stock   \n",
       "7  Operating Systems: A Design-oriented Approach ...  Rs.1000       In stock   \n",
       "8  Hands-On Network Programming with C  By Lewis ...  Rs.1800       In stock   \n",
       "\n",
       "       Reviews                                              Links  Stars  \n",
       "0   20 Reviews  https://www.amazon.com/Operating-System-Concep...      3  \n",
       "1  100 Reviews  https://www.google.com/search?q=Unix+the+textb...      5  \n",
       "2   20 Reviews  https://www.amazon.in/Taxonomy-Ids-Arif-Butt/d...      4  \n",
       "3   60 Reviews  https://www.amazon.com/Understanding-Operating...      2  \n",
       "4   25 Reviews  https://www.goodreads.com/book/show/829182.Com...      2  \n",
       "5   21 Reviews  https://www.amazon.com/Linux-Bible-Christopher...      1  \n",
       "6   40 Reviews  https://www.amazon.com/dp/0321637739?tag=uuid1...      1  \n",
       "7   90 Reviews  https://www.amazon.com/s?k=Operating+Systems%3...      3  \n",
       "8   70 Reviews  https://www.amazon.com/Hands-Network-Programmi...      4  "
      ]
     },
     "execution_count": 23,
     "metadata": {},
     "output_type": "execute_result"
    }
   ],
   "source": [
    "import requests\n",
    "from bs4 import BeautifulSoup\n",
    "import pandas as pd\n",
    "\n",
    "titles = []\n",
    "prices = []\n",
    "availability=[]\n",
    "reviews=[]\n",
    "links=[]\n",
    "stars=[]\n",
    "\n",
    "def books(soup):\n",
    "    sp_titles = soup.find_all('p', class_=\"book_name\")\n",
    "    sp_prices = soup.find_all('p', class_=\"price green\")\n",
    "    sp_availability = data = soup.find_all('p', class_='stock')\n",
    "    sp_reviews = soup.find_all('p',{'class','review'})\n",
    "    data = soup.find_all('p', class_=\"book_name\")\n",
    "    sp_links=[]\n",
    "    for val in data:\n",
    "        sp_links.append(val.find('a').get('href'))\n",
    "    books = soup.find_all('div',{'class','book_container'})\n",
    "    for book in books:\n",
    "        stars.append(5 - len(book.find_all('span',{'class','not_filled'})))\n",
    "    \n",
    "    for i in range(len(sp_titles)):\n",
    "        titles.append(sp_titles[i].text)\n",
    "        prices.append(sp_prices[i].text)\n",
    "        availability.append(sp_availability[i].text)\n",
    "        reviews.append(sp_reviews[i].text)\n",
    "        links.append(sp_links[i])\n",
    "\n",
    "        \n",
    "resp = requests.get(\"https://arifpucit.github.io/bss2\")\n",
    "soup = BeautifulSoup(resp.text, 'lxml')\n",
    "books(soup)\n",
    "\n",
    "\n",
    "data = {'Title/Author':titles, 'Price':prices, 'Availability':availability, \n",
    "        'Reviews':reviews, 'Links':links, 'Stars':stars}\n",
    "df = pd.DataFrame(data, columns=['Title/Author', 'Price', 'Availability', 'Reviews', 'Links', 'Stars'])\n",
    "df.to_csv('books3.csv', index=False)\n",
    "df = pd.read_csv('books3.csv')\n",
    "df"
   ]
  },
  {
   "cell_type": "markdown",
   "id": "00338ae3",
   "metadata": {},
   "source": [
    "### Example # 02: Scraping Information from a Multiple Web Pages"
   ]
  },
  {
   "cell_type": "code",
   "execution_count": 24,
   "id": "621726d3",
   "metadata": {},
   "outputs": [
    {
     "data": {
      "text/html": [
       "<div>\n",
       "<style scoped>\n",
       "    .dataframe tbody tr th:only-of-type {\n",
       "        vertical-align: middle;\n",
       "    }\n",
       "\n",
       "    .dataframe tbody tr th {\n",
       "        vertical-align: top;\n",
       "    }\n",
       "\n",
       "    .dataframe thead th {\n",
       "        text-align: right;\n",
       "    }\n",
       "</style>\n",
       "<table border=\"1\" class=\"dataframe\">\n",
       "  <thead>\n",
       "    <tr style=\"text-align: right;\">\n",
       "      <th></th>\n",
       "      <th>Title/Author</th>\n",
       "      <th>Price</th>\n",
       "      <th>Availability</th>\n",
       "      <th>Reviews</th>\n",
       "      <th>Links</th>\n",
       "      <th>Stars</th>\n",
       "    </tr>\n",
       "  </thead>\n",
       "  <tbody>\n",
       "    <tr>\n",
       "      <th>0</th>\n",
       "      <td>Operating System Concepts By Avi Silberschatz</td>\n",
       "      <td>Rs.2000</td>\n",
       "      <td>In stock</td>\n",
       "      <td>20 Reviews</td>\n",
       "      <td>https://www.amazon.com/Operating-System-Concep...</td>\n",
       "      <td>3</td>\n",
       "    </tr>\n",
       "    <tr>\n",
       "      <th>1</th>\n",
       "      <td>UNIX The Textbook By Syed Mansoor Sarwar</td>\n",
       "      <td>Rs.5000</td>\n",
       "      <td>In stock</td>\n",
       "      <td>100 Reviews</td>\n",
       "      <td>https://www.google.com/search?q=Unix+the+textb...</td>\n",
       "      <td>5</td>\n",
       "    </tr>\n",
       "    <tr>\n",
       "      <th>2</th>\n",
       "      <td>Taxonomy of IDS By Arif Butt</td>\n",
       "      <td>Rs.6900</td>\n",
       "      <td>Not in stock</td>\n",
       "      <td>20 Reviews</td>\n",
       "      <td>https://www.amazon.in/Taxonomy-Ids-Arif-Butt/d...</td>\n",
       "      <td>4</td>\n",
       "    </tr>\n",
       "    <tr>\n",
       "      <th>3</th>\n",
       "      <td>Understanding operating systems By Ida Flynn</td>\n",
       "      <td>Rs.2700</td>\n",
       "      <td>Not in stock</td>\n",
       "      <td>60 Reviews</td>\n",
       "      <td>https://www.amazon.com/Understanding-Operating...</td>\n",
       "      <td>2</td>\n",
       "    </tr>\n",
       "    <tr>\n",
       "      <th>4</th>\n",
       "      <td>Computer Systems  By Randal E. Bryant</td>\n",
       "      <td>Rs.1700</td>\n",
       "      <td>In stock</td>\n",
       "      <td>25 Reviews</td>\n",
       "      <td>https://www.goodreads.com/book/show/829182.Com...</td>\n",
       "      <td>2</td>\n",
       "    </tr>\n",
       "    <tr>\n",
       "      <th>5</th>\n",
       "      <td>Linux bible  Book By Christopher Negus</td>\n",
       "      <td>Rs.1800</td>\n",
       "      <td>Not in stock</td>\n",
       "      <td>21 Reviews</td>\n",
       "      <td>https://www.amazon.com/Linux-Bible-Christopher...</td>\n",
       "      <td>1</td>\n",
       "    </tr>\n",
       "    <tr>\n",
       "      <th>6</th>\n",
       "      <td>Advanced Programming in the UNIX Environment  ...</td>\n",
       "      <td>Rs.6000</td>\n",
       "      <td>In stock</td>\n",
       "      <td>40 Reviews</td>\n",
       "      <td>https://www.amazon.com/dp/0321637739?tag=uuid1...</td>\n",
       "      <td>1</td>\n",
       "    </tr>\n",
       "    <tr>\n",
       "      <th>7</th>\n",
       "      <td>Operating Systems: A Design-oriented Approach ...</td>\n",
       "      <td>Rs.1000</td>\n",
       "      <td>In stock</td>\n",
       "      <td>90 Reviews</td>\n",
       "      <td>https://www.amazon.com/s?k=Operating+Systems%3...</td>\n",
       "      <td>3</td>\n",
       "    </tr>\n",
       "    <tr>\n",
       "      <th>8</th>\n",
       "      <td>Hands-On Network Programming with C  By Lewis ...</td>\n",
       "      <td>Rs.1800</td>\n",
       "      <td>In stock</td>\n",
       "      <td>70 Reviews</td>\n",
       "      <td>https://www.amazon.com/Hands-Network-Programmi...</td>\n",
       "      <td>4</td>\n",
       "    </tr>\n",
       "    <tr>\n",
       "      <th>9</th>\n",
       "      <td>LINUX &amp; UNIX Programming Tools  By Syed Mansoo...</td>\n",
       "      <td>Rs.5000</td>\n",
       "      <td>In stock</td>\n",
       "      <td>200 Reviews</td>\n",
       "      <td>https://www.amazon.com/LINUX-UNIX-Programming-...</td>\n",
       "      <td>2</td>\n",
       "    </tr>\n",
       "    <tr>\n",
       "      <th>10</th>\n",
       "      <td>Systems Programming Dhananjay  By  D. M. Dhamd...</td>\n",
       "      <td>Rs.8000</td>\n",
       "      <td>Not in stock</td>\n",
       "      <td>100 Reviews</td>\n",
       "      <td>https://www.amazon.com/s?k=system+programming+...</td>\n",
       "      <td>4</td>\n",
       "    </tr>\n",
       "    <tr>\n",
       "      <th>11</th>\n",
       "      <td>Taxonomy of IDS By Arif Butt</td>\n",
       "      <td>Rs.6900</td>\n",
       "      <td>In stock</td>\n",
       "      <td>38 Reviews</td>\n",
       "      <td>https://www.amazon.in/Taxonomy-Ids-Arif-Butt/d...</td>\n",
       "      <td>3</td>\n",
       "    </tr>\n",
       "    <tr>\n",
       "      <th>12</th>\n",
       "      <td>The Linux Programming Interface By Michael Ker...</td>\n",
       "      <td>Rs.2700</td>\n",
       "      <td>Not in stock</td>\n",
       "      <td>45 Reviews</td>\n",
       "      <td>https://www.amazon.com/dp/1593272200?tag=uuid1...</td>\n",
       "      <td>3</td>\n",
       "    </tr>\n",
       "    <tr>\n",
       "      <th>13</th>\n",
       "      <td>UNIX The TextbookBy Syed Mansoor Sarwar</td>\n",
       "      <td>Rs.1700</td>\n",
       "      <td>In stock</td>\n",
       "      <td>32 Reviews</td>\n",
       "      <td>https://www.google.com/search?q=Unix+the+textb...</td>\n",
       "      <td>1</td>\n",
       "    </tr>\n",
       "    <tr>\n",
       "      <th>14</th>\n",
       "      <td>Linux bible  Book by Christopher Negus</td>\n",
       "      <td>Rs.1800</td>\n",
       "      <td>In stock</td>\n",
       "      <td>111 Reviews</td>\n",
       "      <td>https://www.amazon.com/Linux-Bible-Christopher...</td>\n",
       "      <td>2</td>\n",
       "    </tr>\n",
       "    <tr>\n",
       "      <th>15</th>\n",
       "      <td>Advanced Programming in the UNIX Environment B...</td>\n",
       "      <td>Rs.6000</td>\n",
       "      <td>In stock</td>\n",
       "      <td>100 Reviews</td>\n",
       "      <td>https://www.amazon.com/dp/0321637739?tag=uuid1...</td>\n",
       "      <td>2</td>\n",
       "    </tr>\n",
       "    <tr>\n",
       "      <th>16</th>\n",
       "      <td>Linux Kernel Development By Robert Love</td>\n",
       "      <td>Rs.1200</td>\n",
       "      <td>In stock</td>\n",
       "      <td>10 Reviews</td>\n",
       "      <td>https://www.amazon.com/Linux-Kernel-Developmen...</td>\n",
       "      <td>1</td>\n",
       "    </tr>\n",
       "    <tr>\n",
       "      <th>17</th>\n",
       "      <td>Hands-On Network Programming with C  By Lewis ...</td>\n",
       "      <td>Rs.1900</td>\n",
       "      <td>Not in stock</td>\n",
       "      <td>90 Reviews</td>\n",
       "      <td>https://www.amazon.com/Hands-Network-Programmi...</td>\n",
       "      <td>3</td>\n",
       "    </tr>\n",
       "    <tr>\n",
       "      <th>18</th>\n",
       "      <td>Computer Architecture: A Quantitative Approach...</td>\n",
       "      <td>Rs.2000</td>\n",
       "      <td>In stock</td>\n",
       "      <td>10 Reviews</td>\n",
       "      <td>https://www.amazon.com/Computer-Architecture-Q...</td>\n",
       "      <td>2</td>\n",
       "    </tr>\n",
       "    <tr>\n",
       "      <th>19</th>\n",
       "      <td>Modern Computer Architecture and Organization ...</td>\n",
       "      <td>Rs.5000</td>\n",
       "      <td>In stock</td>\n",
       "      <td>10 Reviews</td>\n",
       "      <td>https://www.amazon.com/s?k=Modern+Computer+Arc...</td>\n",
       "      <td>4</td>\n",
       "    </tr>\n",
       "    <tr>\n",
       "      <th>20</th>\n",
       "      <td>Computer Organization and Design By David A Pa...</td>\n",
       "      <td>Rs.6900</td>\n",
       "      <td>Not in stock</td>\n",
       "      <td>50 Reviews</td>\n",
       "      <td>https://www.amazon.com/s?k=computer+organizati...</td>\n",
       "      <td>5</td>\n",
       "    </tr>\n",
       "    <tr>\n",
       "      <th>21</th>\n",
       "      <td>Digital Design and Computer Architecture  By D...</td>\n",
       "      <td>Rs.2700</td>\n",
       "      <td>Not in stock</td>\n",
       "      <td>80 Reviews</td>\n",
       "      <td>https://www.amazon.com/Digital-Design-Computer...</td>\n",
       "      <td>3</td>\n",
       "    </tr>\n",
       "    <tr>\n",
       "      <th>22</th>\n",
       "      <td>Essentials of computer architecture By Dougla...</td>\n",
       "      <td>Rs.1700</td>\n",
       "      <td>In stock</td>\n",
       "      <td>20 Reviews</td>\n",
       "      <td>https://www.amazon.com/s?k=Essentials+of+compu...</td>\n",
       "      <td>3</td>\n",
       "    </tr>\n",
       "    <tr>\n",
       "      <th>23</th>\n",
       "      <td>Clean Architecture   By Robert Cecil</td>\n",
       "      <td>Rs.1800</td>\n",
       "      <td>Not in stock</td>\n",
       "      <td>210 Reviews</td>\n",
       "      <td>https://www.amazon.com/Clean-Architecture-Craf...</td>\n",
       "      <td>4</td>\n",
       "    </tr>\n",
       "    <tr>\n",
       "      <th>24</th>\n",
       "      <td>Parallel Computer Architecture By Anoop Gupta</td>\n",
       "      <td>Rs.6000</td>\n",
       "      <td>In stock</td>\n",
       "      <td>30 Reviews</td>\n",
       "      <td>https://www.amazon.com/s?k=Parallel+Computer+A...</td>\n",
       "      <td>2</td>\n",
       "    </tr>\n",
       "    <tr>\n",
       "      <th>25</th>\n",
       "      <td>Flow Architectures By James Urquhart</td>\n",
       "      <td>Rs.1000</td>\n",
       "      <td>In stock</td>\n",
       "      <td>70 Reviews</td>\n",
       "      <td>https://www.amazon.com/s?k=Flow+Architectures&amp;...</td>\n",
       "      <td>2</td>\n",
       "    </tr>\n",
       "    <tr>\n",
       "      <th>26</th>\n",
       "      <td>Computer Architecture for Scientists By Andre...</td>\n",
       "      <td>Rs.1800</td>\n",
       "      <td>In stock</td>\n",
       "      <td>60 Reviews</td>\n",
       "      <td>https://www.amazon.com/s?k=Computer+Architectu...</td>\n",
       "      <td>3</td>\n",
       "    </tr>\n",
       "  </tbody>\n",
       "</table>\n",
       "</div>"
      ],
      "text/plain": [
       "                                         Title/Author    Price   Availability  \\\n",
       "0       Operating System Concepts By Avi Silberschatz  Rs.2000       In stock   \n",
       "1            UNIX The Textbook By Syed Mansoor Sarwar  Rs.5000       In stock   \n",
       "2                        Taxonomy of IDS By Arif Butt  Rs.6900   Not in stock   \n",
       "3        Understanding operating systems By Ida Flynn  Rs.2700   Not in stock   \n",
       "4              Computer Systems  By Randal E. Bryant   Rs.1700       In stock   \n",
       "5              Linux bible  Book By Christopher Negus  Rs.1800   Not in stock   \n",
       "6   Advanced Programming in the UNIX Environment  ...  Rs.6000       In stock   \n",
       "7   Operating Systems: A Design-oriented Approach ...  Rs.1000       In stock   \n",
       "8   Hands-On Network Programming with C  By Lewis ...  Rs.1800       In stock   \n",
       "9   LINUX & UNIX Programming Tools  By Syed Mansoo...  Rs.5000       In stock   \n",
       "10  Systems Programming Dhananjay  By  D. M. Dhamd...  Rs.8000   Not in stock   \n",
       "11                       Taxonomy of IDS By Arif Butt  Rs.6900       In stock   \n",
       "12  The Linux Programming Interface By Michael Ker...  Rs.2700   Not in stock   \n",
       "13            UNIX The TextbookBy Syed Mansoor Sarwar  Rs.1700       In stock   \n",
       "14             Linux bible  Book by Christopher Negus  Rs.1800       In stock   \n",
       "15  Advanced Programming in the UNIX Environment B...  Rs.6000       In stock   \n",
       "16            Linux Kernel Development By Robert Love  Rs.1200       In stock   \n",
       "17  Hands-On Network Programming with C  By Lewis ...  Rs.1900   Not in stock   \n",
       "18  Computer Architecture: A Quantitative Approach...  Rs.2000       In stock   \n",
       "19  Modern Computer Architecture and Organization ...  Rs.5000       In stock   \n",
       "20  Computer Organization and Design By David A Pa...  Rs.6900   Not in stock   \n",
       "21  Digital Design and Computer Architecture  By D...  Rs.2700   Not in stock   \n",
       "22   Essentials of computer architecture By Dougla...  Rs.1700       In stock   \n",
       "23               Clean Architecture   By Robert Cecil  Rs.1800   Not in stock   \n",
       "24      Parallel Computer Architecture By Anoop Gupta  Rs.6000       In stock   \n",
       "25              Flow Architectures By James Urquhart   Rs.1000       In stock   \n",
       "26   Computer Architecture for Scientists By Andre...  Rs.1800       In stock   \n",
       "\n",
       "        Reviews                                              Links  Stars  \n",
       "0    20 Reviews  https://www.amazon.com/Operating-System-Concep...      3  \n",
       "1   100 Reviews  https://www.google.com/search?q=Unix+the+textb...      5  \n",
       "2    20 Reviews  https://www.amazon.in/Taxonomy-Ids-Arif-Butt/d...      4  \n",
       "3    60 Reviews  https://www.amazon.com/Understanding-Operating...      2  \n",
       "4    25 Reviews  https://www.goodreads.com/book/show/829182.Com...      2  \n",
       "5    21 Reviews  https://www.amazon.com/Linux-Bible-Christopher...      1  \n",
       "6    40 Reviews  https://www.amazon.com/dp/0321637739?tag=uuid1...      1  \n",
       "7    90 Reviews  https://www.amazon.com/s?k=Operating+Systems%3...      3  \n",
       "8    70 Reviews  https://www.amazon.com/Hands-Network-Programmi...      4  \n",
       "9   200 Reviews  https://www.amazon.com/LINUX-UNIX-Programming-...      2  \n",
       "10  100 Reviews  https://www.amazon.com/s?k=system+programming+...      4  \n",
       "11   38 Reviews  https://www.amazon.in/Taxonomy-Ids-Arif-Butt/d...      3  \n",
       "12   45 Reviews  https://www.amazon.com/dp/1593272200?tag=uuid1...      3  \n",
       "13   32 Reviews  https://www.google.com/search?q=Unix+the+textb...      1  \n",
       "14  111 Reviews  https://www.amazon.com/Linux-Bible-Christopher...      2  \n",
       "15  100 Reviews  https://www.amazon.com/dp/0321637739?tag=uuid1...      2  \n",
       "16   10 Reviews  https://www.amazon.com/Linux-Kernel-Developmen...      1  \n",
       "17   90 Reviews  https://www.amazon.com/Hands-Network-Programmi...      3  \n",
       "18   10 Reviews  https://www.amazon.com/Computer-Architecture-Q...      2  \n",
       "19   10 Reviews  https://www.amazon.com/s?k=Modern+Computer+Arc...      4  \n",
       "20   50 Reviews  https://www.amazon.com/s?k=computer+organizati...      5  \n",
       "21   80 Reviews  https://www.amazon.com/Digital-Design-Computer...      3  \n",
       "22   20 Reviews  https://www.amazon.com/s?k=Essentials+of+compu...      3  \n",
       "23  210 Reviews  https://www.amazon.com/Clean-Architecture-Craf...      4  \n",
       "24   30 Reviews  https://www.amazon.com/s?k=Parallel+Computer+A...      2  \n",
       "25   70 Reviews  https://www.amazon.com/s?k=Flow+Architectures&...      2  \n",
       "26   60 Reviews  https://www.amazon.com/s?k=Computer+Architectu...      3  "
      ]
     },
     "execution_count": 24,
     "metadata": {},
     "output_type": "execute_result"
    }
   ],
   "source": [
    "import requests\n",
    "from bs4 import BeautifulSoup\n",
    "import pandas as pd\n",
    "\n",
    "titles = []\n",
    "prices = []\n",
    "availability=[]\n",
    "reviews=[]\n",
    "links=[]\n",
    "stars=[]\n",
    "\n",
    "def books(soup):\n",
    "    sp_titles = soup.find_all('p', class_=\"book_name\")\n",
    "    sp_prices = soup.find_all('p', class_=\"price green\")\n",
    "    sp_availability = data = soup.find_all('p', class_='stock')\n",
    "    sp_reviews = soup.find_all('p',{'class','review'})\n",
    "    # for links\n",
    "    data = soup.find_all('p', class_=\"book_name\")\n",
    "    sp_links=[]\n",
    "    for val in data:\n",
    "        sp_links.append(val.find('a').get('href'))\n",
    "    books = soup.find_all('div',{'class','book_container'})\n",
    "    for book in books:\n",
    "        stars.append(5 - len(book.find_all('span',{'class','not_filled'})))\n",
    "    \n",
    "    for i in range(len(sp_titles)):\n",
    "        titles.append(sp_titles[i].text)\n",
    "        prices.append(sp_prices[i].text)\n",
    "        availability.append(sp_availability[i].text)\n",
    "        reviews.append(sp_reviews[i].text)\n",
    "        links.append(sp_links[i])\n",
    "\n",
    "\n",
    "urls = ['https://arifpucit.github.io/bss2/index.html', \n",
    "        'https://arifpucit.github.io/bss2/SP.html', \n",
    "        'https://arifpucit.github.io/bss2/CA.html']                  \n",
    "for url in urls:\n",
    "    resp = requests.get(url)\n",
    "    soup = BeautifulSoup(resp.text, 'lxml')\n",
    "    books(soup)\n",
    "\n",
    "# Creating a dataframe and saving data in a csv file\n",
    "data = {'Title/Author':titles, 'Price':prices, 'Availability':availability, \n",
    "        'Reviews':reviews, 'Links':links, 'Stars':stars}\n",
    "df = pd.DataFrame(data, columns=['Title/Author', 'Price', 'Availability', 'Reviews', 'Links', 'Stars'])\n",
    "df.to_csv('books3.csv', index=False)\n",
    "df = pd.read_csv('books3.csv')\n",
    "df"
   ]
  },
  {
   "cell_type": "markdown",
   "id": "fd2d41bd",
   "metadata": {},
   "source": [
    "### Example # 03: Scapting Information from a Multiple Web Pages (Pagination)"
   ]
  },
  {
   "cell_type": "code",
   "execution_count": 25,
   "id": "a342c891",
   "metadata": {},
   "outputs": [
    {
     "data": {
      "text/html": [
       "<div>\n",
       "<style scoped>\n",
       "    .dataframe tbody tr th:only-of-type {\n",
       "        vertical-align: middle;\n",
       "    }\n",
       "\n",
       "    .dataframe tbody tr th {\n",
       "        vertical-align: top;\n",
       "    }\n",
       "\n",
       "    .dataframe thead th {\n",
       "        text-align: right;\n",
       "    }\n",
       "</style>\n",
       "<table border=\"1\" class=\"dataframe\">\n",
       "  <thead>\n",
       "    <tr style=\"text-align: right;\">\n",
       "      <th></th>\n",
       "      <th>Title</th>\n",
       "      <th>YouTube Link</th>\n",
       "      <th>Description</th>\n",
       "    </tr>\n",
       "  </thead>\n",
       "  <tbody>\n",
       "    <tr>\n",
       "      <th>0</th>\n",
       "      <td>Lec01 Introduction to System Programming (Arif...</td>\n",
       "      <td>https://youtube.com/watch?v=qThI-U34KYs</td>\n",
       "      <td>This is the first session on the subject of Sy...</td>\n",
       "    </tr>\n",
       "    <tr>\n",
       "      <th>1</th>\n",
       "      <td>Lec02 C Compilation: A System Programmer Persp...</td>\n",
       "      <td>https://youtube.com/watch?v=a7GhFL0Gh6Y</td>\n",
       "      <td>This session starts with the C-Compilation pro...</td>\n",
       "    </tr>\n",
       "    <tr>\n",
       "      <th>2</th>\n",
       "      <td>Lec03 Working of Linkers: Creating your own Li...</td>\n",
       "      <td>https://youtube.com/watch?v=A67t7X2LUsA</td>\n",
       "      <td>Linking and loading a process (Behind the curt...</td>\n",
       "    </tr>\n",
       "    <tr>\n",
       "      <th>3</th>\n",
       "      <td>Lec04 UNIX make utility (Arif Butt @ PUCIT)</td>\n",
       "      <td>https://youtube.com/watch?v=8hG0MTyyxMI</td>\n",
       "      <td>This session deals with the famous UNIX make u...</td>\n",
       "    </tr>\n",
       "    <tr>\n",
       "      <th>4</th>\n",
       "      <td>Lec05 GNU autotools and cmake (Arif Butt @ PUCIT)</td>\n",
       "      <td>https://youtube.com/watch?v=Ncb_xzjGAwM</td>\n",
       "      <td>This session starts with a brief comparison be...</td>\n",
       "    </tr>\n",
       "    <tr>\n",
       "      <th>5</th>\n",
       "      <td>Lec06 Versioning Systems git-I (Arif Butt @ PU...</td>\n",
       "      <td>https://youtube.com/watch?v=TBqLJg6PmWQ</td>\n",
       "      <td>This session gives an overview of different mo...</td>\n",
       "    </tr>\n",
       "    <tr>\n",
       "      <th>6</th>\n",
       "      <td>Lec07 Versioning Systems git-II (Arif Butt @ P...</td>\n",
       "      <td>https://youtube.com/watch?v=3akXFcBDYc0</td>\n",
       "      <td>This is a continuity of previous session and s...</td>\n",
       "    </tr>\n",
       "    <tr>\n",
       "      <th>7</th>\n",
       "      <td>Lec08 Exit Handlers and Resource Limits (Arif ...</td>\n",
       "      <td>https://youtube.com/watch?v=ujzom1OyPMY</td>\n",
       "      <td>This session describes as to how a C program s...</td>\n",
       "    </tr>\n",
       "    <tr>\n",
       "      <th>8</th>\n",
       "      <td>Lec09 Stack Behind the Curtain (Arif Butt @ PU...</td>\n",
       "      <td>https://youtube.com/watch?v=1XbTmmWxHzo</td>\n",
       "      <td>This session describes how a process is laid o...</td>\n",
       "    </tr>\n",
       "  </tbody>\n",
       "</table>\n",
       "</div>"
      ],
      "text/plain": [
       "                                               Title  \\\n",
       "0  Lec01 Introduction to System Programming (Arif...   \n",
       "1  Lec02 C Compilation: A System Programmer Persp...   \n",
       "2  Lec03 Working of Linkers: Creating your own Li...   \n",
       "3        Lec04 UNIX make utility (Arif Butt @ PUCIT)   \n",
       "4  Lec05 GNU autotools and cmake (Arif Butt @ PUCIT)   \n",
       "5  Lec06 Versioning Systems git-I (Arif Butt @ PU...   \n",
       "6  Lec07 Versioning Systems git-II (Arif Butt @ P...   \n",
       "7  Lec08 Exit Handlers and Resource Limits (Arif ...   \n",
       "8  Lec09 Stack Behind the Curtain (Arif Butt @ PU...   \n",
       "\n",
       "                              YouTube Link  \\\n",
       "0  https://youtube.com/watch?v=qThI-U34KYs   \n",
       "1  https://youtube.com/watch?v=a7GhFL0Gh6Y   \n",
       "2  https://youtube.com/watch?v=A67t7X2LUsA   \n",
       "3  https://youtube.com/watch?v=8hG0MTyyxMI   \n",
       "4  https://youtube.com/watch?v=Ncb_xzjGAwM   \n",
       "5  https://youtube.com/watch?v=TBqLJg6PmWQ   \n",
       "6  https://youtube.com/watch?v=3akXFcBDYc0   \n",
       "7  https://youtube.com/watch?v=ujzom1OyPMY   \n",
       "8  https://youtube.com/watch?v=1XbTmmWxHzo   \n",
       "\n",
       "                                         Description  \n",
       "0  This is the first session on the subject of Sy...  \n",
       "1  This session starts with the C-Compilation pro...  \n",
       "2  Linking and loading a process (Behind the curt...  \n",
       "3  This session deals with the famous UNIX make u...  \n",
       "4  This session starts with a brief comparison be...  \n",
       "5  This session gives an overview of different mo...  \n",
       "6  This is a continuity of previous session and s...  \n",
       "7  This session describes as to how a C program s...  \n",
       "8  This session describes how a process is laid o...  "
      ]
     },
     "execution_count": 25,
     "metadata": {},
     "output_type": "execute_result"
    }
   ],
   "source": [
    "import requests\n",
    "from bs4 import BeautifulSoup\n",
    "import pandas as pd\n",
    "\n",
    "titles = []\n",
    "descriptions = []\n",
    "links=[]\n",
    "\n",
    "\n",
    "def videos(soup):\n",
    "    articles = soup.find_all('div', class_='media-body')\n",
    "    for article in articles:\n",
    "        title = article.find('h4', class_=\"media-heading1\").text\n",
    "        titles.append(title)\n",
    "        \n",
    "        descr = article.find('p', align='justify').text\n",
    "        descriptions.append(descr)\n",
    "\n",
    "        video_id = article.find('iframe')['src'].split('/')[4].split('?')[0]\n",
    "        youtube_link = f'https://youtube.com/watch?v={video_id}'\n",
    "        links.append(youtube_link)\n",
    "\n",
    "        \n",
    "\n",
    "first_page = requests.get(\"http://www.arifbutt.me/category/sp-with-linux/\")\n",
    "soup = BeautifulSoup(first_page.text,'lxml')\n",
    "videos(soup)\n",
    "\n",
    "\n",
    "# Creating a dataframe and saving data in a csv file\n",
    "data = {'Title':titles, 'YouTube Link':links, 'Description':descriptions}\n",
    "df = pd.DataFrame(data, columns=['Title', 'YouTube Link', 'Description'])\n",
    "df.to_csv('spvideos.csv', index=False)\n",
    "df = pd.read_csv('spvideos.csv')\n",
    "df"
   ]
  },
  {
   "cell_type": "markdown",
   "id": "056a7b33",
   "metadata": {},
   "source": [
    "### Limitations of Requests and BeautifulSoup Library\n",
    "- When you load up a website you want to scrape using your browser, the browser will make a request to the page's server to retrieve the page content. That's usually some HTML code, some CSS, and some JavaScript.\n",
    "- A key difference between loading the page using your browser and getting the page contents using requests is that your browser executes any JavaScript code that the page comes with. Sometimes you will see the initial page content (before the JavaScript runs) for a few moments, and then the JavaScript kicks in.\n",
    "- It's a very frequent problem in my courses to see this happen. Unfortunately, the only way to get the page after JavaScript has ran is, well, running the JavaScript. You need a JavaScript engine in order to do that. That means you need a browser or browser-like program in order to get the final page.\n",
    "- Solution:\n",
    "    - Selenium is a browser automation tool, which means you can use Selenium to control a browser. You can make Selenium load the page you're interested in, evaluate the JavaScript, and then get the page content.\n",
    "    - requests-html is another library that will let you evaluate the JavaScript after you've retrieved the page. It uses requests to get the page content, and then runs the page through the Chrome browser engine (Chromium) in order to \"calculate\" the final page. However, it's still very much under active development and I've had a few problems with it.\n",
    "    "
   ]
  }
 ],
 "metadata": {
  "kernelspec": {
   "display_name": "Python 3 (ipykernel)",
   "language": "python",
   "name": "python3"
  },
  "language_info": {
   "codemirror_mode": {
    "name": "ipython",
    "version": 3
   },
   "file_extension": ".py",
   "mimetype": "text/x-python",
   "name": "python",
   "nbconvert_exporter": "python",
   "pygments_lexer": "ipython3",
   "version": "3.10.9"
  }
 },
 "nbformat": 4,
 "nbformat_minor": 5
}
